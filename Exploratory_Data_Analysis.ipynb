{
  "nbformat": 4,
  "nbformat_minor": 0,
  "metadata": {
    "colab": {
      "name": "Exploratory_Data_Analysis.ipynb",
      "provenance": [],
      "collapsed_sections": [],
      "include_colab_link": true
    },
    "kernelspec": {
      "name": "python3",
      "display_name": "Python 3.9.5 64-bit"
    },
    "language_info": {
      "name": "python",
      "version": "3.9.5",
      "mimetype": "text/x-python",
      "codemirror_mode": {
        "name": "ipython",
        "version": 3
      },
      "pygments_lexer": "ipython3",
      "nbconvert_exporter": "python",
      "file_extension": ".py"
    },
    "interpreter": {
      "hash": "2566ab4d92dd3d6a3e5a10d7edb08e209a170cfb8b5468f0a965eee79a4493bb"
    }
  },
  "cells": [
    {
      "cell_type": "markdown",
      "metadata": {
        "id": "view-in-github",
        "colab_type": "text"
      },
      "source": [
        "<a href=\"https://colab.research.google.com/github/Wedsanley/Final-Project/blob/main/Exploratory_Data_Analysis.ipynb\" target=\"_parent\"><img src=\"https://colab.research.google.com/assets/colab-badge.svg\" alt=\"Open In Colab\"/></a>"
      ]
    },
    {
      "cell_type": "markdown",
      "metadata": {
        "id": "lsDrM8l-04op"
      },
      "source": [
        "# Objective\n",
        "What is the objective or goal that you are trying to accomplish? What is the decision that you must make?"
      ]
    },
    {
      "cell_type": "code",
      "metadata": {
        "id": "fUE236BbyaR4",
        "colab": {
          "base_uri": "https://localhost:8080/"
        },
        "outputId": "7ebdd734-6ecc-4dcc-dd05-47b75ac77b69"
      },
      "source": [
        "from google.colab import drive\n",
        "drive.mount('/content/drive')"
      ],
      "execution_count": 212,
      "outputs": [
        {
          "output_type": "stream",
          "name": "stdout",
          "text": [
            "Drive already mounted at /content/drive; to attempt to forcibly remount, call drive.mount(\"/content/drive\", force_remount=True).\n"
          ]
        }
      ]
    },
    {
      "cell_type": "markdown",
      "metadata": {
        "id": "FXCmidI7S62F"
      },
      "source": [
        "1. Determine the profile of women according to the number of children given birth or desired.\n",
        "\n",
        "2. Estimate the number of children a woman will have before menopause.\n",
        "\n",
        "3. Realise a logistic regression to predict if a young woman is susceptiblle to get pregnant."
      ]
    },
    {
      "cell_type": "markdown",
      "metadata": {
        "id": "8Fv7ykXU0_I5"
      },
      "source": [
        "# Hypothesis: Research Question?\n",
        " What is the question that you would like to answer in order to make a decision."
      ]
    },
    {
      "cell_type": "markdown",
      "metadata": {
        "id": "bEBI4Qfcmk-D"
      },
      "source": [
        "The number of children depends on the the place of residence, the age at first birth, the educational level...., What are the factors which influence the fertility in Haiti?\n",
        "\n"
      ]
    },
    {
      "cell_type": "markdown",
      "metadata": {
        "id": "9pBreNBF1FgG"
      },
      "source": [
        "# Data Source\n",
        "Explain where did you get the data. How can you trust this data? Who produced this data and what were their motiviations?\n"
      ]
    },
    {
      "cell_type": "markdown",
      "metadata": {
        "id": "RoLs5W5vm72J"
      },
      "source": [
        "The data from EMMUS (survey, mortality, morbidity and service utilization)"
      ]
    },
    {
      "cell_type": "markdown",
      "metadata": {
        "id": "LdBQ_GkJ1xX0"
      },
      "source": [
        "# Data Cleaning\n",
        "In this step you will prepare your data for analysis.\n",
        "\n",
        "## Review data types\n",
        "Inspect the dataset for the data types of each column.\n",
        "\n",
        "## Analytical Transformations\n",
        "Perform any transformation on the columns in the dataset to enable further analysis.\n",
        "\n",
        "### Treatment of Missing Values\n",
        "If there are any missing values, how do you plan to treat those data columns?"
      ]
    },
    {
      "cell_type": "markdown",
      "metadata": {
        "id": "kYaIzg1WEy6i"
      },
      "source": [
        "### Libraries"
      ]
    },
    {
      "cell_type": "code",
      "metadata": {
        "id": "22kgKFfXEy6l"
      },
      "source": [
        "import numpy as np \n",
        "import pandas as pd\n",
        "import matplotlib.pyplot as plt\n",
        "import seaborn as sns\n",
        "\"\"\"from plotly.subplots import make_subplots\n",
        "import plotly.graph_objects as go\n",
        "import plotly.express as px\"\"\"\n",
        "from scipy import stats"
      ],
      "execution_count": 213,
      "outputs": []
    },
    {
      "cell_type": "markdown",
      "metadata": {
        "id": "TbX3pDAlEy6o"
      },
      "source": [
        "### Data Import"
      ]
    },
    {
      "cell_type": "code",
      "metadata": {
        "id": "E9L98pYKDpCb"
      },
      "source": [
        "reprod = pd.read_csv(\"/content/drive/MyDrive/Project/final_data.csv\")"
      ],
      "execution_count": 214,
      "outputs": []
    },
    {
      "cell_type": "markdown",
      "metadata": {
        "id": "e3VSRFI2Ey6r"
      },
      "source": [
        "### Data Comprehension"
      ]
    },
    {
      "cell_type": "code",
      "metadata": {
        "id": "xVZMmtlQEy6s",
        "colab": {
          "base_uri": "https://localhost:8080/"
        },
        "outputId": "9432deb4-44af-4685-b18e-c705894eea38"
      },
      "source": [
        "a = reprod.shape\n",
        "print(f\"The data has {a[0]} observations and {a[1]} variables.\")"
      ],
      "execution_count": 215,
      "outputs": [
        {
          "output_type": "stream",
          "name": "stdout",
          "text": [
            "The data has 15513 observations and 30 variables.\n"
          ]
        }
      ]
    },
    {
      "cell_type": "code",
      "metadata": {
        "id": "G_qwQBOcEy6w",
        "colab": {
          "base_uri": "https://localhost:8080/"
        },
        "outputId": "b9c01568-8214-47ad-a437-b9d9e978d9d3"
      },
      "source": [
        "reprod.info()"
      ],
      "execution_count": 216,
      "outputs": [
        {
          "output_type": "stream",
          "name": "stdout",
          "text": [
            "<class 'pandas.core.frame.DataFrame'>\n",
            "RangeIndex: 15513 entries, 0 to 15512\n",
            "Data columns (total 30 columns):\n",
            " #   Column                                                          Non-Null Count  Dtype  \n",
            "---  ------                                                          --------------  -----  \n",
            " 0   Current age                                                     15513 non-null  int64  \n",
            " 1   Age in 5-year groups                                            15513 non-null  object \n",
            " 2   Region                                                          15513 non-null  object \n",
            " 3   Place of residence                                              15513 non-null  object \n",
            " 4   Highest educational level                                       15513 non-null  object \n",
            " 5   Religion                                                        15513 non-null  object \n",
            " 6   Wealth index combined                                           15513 non-null  object \n",
            " 7   Total children ever born                                        14371 non-null  float64\n",
            " 8   Sons who have died                                              14371 non-null  float64\n",
            " 9   Daughters who have died                                         14371 non-null  float64\n",
            " 10  Age at first birth                                              8607 non-null   float64\n",
            " 11  Currently pregnant                                              14371 non-null  object \n",
            " 12  Time since last menstrual period                                14371 non-null  object \n",
            " 13  Knowledge of ovulatory cycle                                    14371 non-null  object \n",
            " 14  Number of living children                                       14371 non-null  float64\n",
            " 15  Knowledge of any method                                         14371 non-null  object \n",
            " 16  Ever used anything or tried to delay or avoid getting pregnant  14371 non-null  object \n",
            " 17  Current contraceptive method                                    14371 non-null  object \n",
            " 18  Wanted last child                                               5005 non-null   object \n",
            " 19  Currently amenorrheic                                           14371 non-null  object \n",
            " 20  Current marital status                                          14371 non-null  object \n",
            " 21  Age at first sex                                                14371 non-null  object \n",
            " 22  Ever been married or in union                                   6808 non-null   object \n",
            " 23  Fertility preference                                            14371 non-null  object \n",
            " 24  Ideal number of children                                        14371 non-null  object \n",
            " 25  Ideal number of children (grouped)                              14371 non-null  object \n",
            " 26  Unmet need for contraception (definition 3)                     14371 non-null  object \n",
            " 27  Respondent currently working                                    14371 non-null  object \n",
            " 28  Total lifetime number of sex partners                           11858 non-null  object \n",
            " 29  Respondent can refuse sex                                       5086 non-null   object \n",
            "dtypes: float64(5), int64(1), object(24)\n",
            "memory usage: 3.6+ MB\n"
          ]
        }
      ]
    },
    {
      "cell_type": "markdown",
      "metadata": {
        "id": "dv2SwC3NEy62"
      },
      "source": [
        "#### variable meaning"
      ]
    },
    {
      "cell_type": "markdown",
      "metadata": {
        "id": "yBWk3fM5Ey64"
      },
      "source": [
        "**Case Identification**: Unique values identifying each observations\n",
        "\n",
        "**Current age**: The age of the respondent                                                     \n",
        "**Age in 5-year groups**: The age froup of the respondent \n",
        "                                             \n",
        "**Region**: The departement of residence\n",
        "                                            \n",
        "**Place of residence**: Wheter the respondent live in urban or rural area\n",
        "\n",
        "**Years lived in place of residence**: Years passed in residence area   \n",
        "                                                        \n",
        "**Religion**: The faith of the respondents                                                            \n",
        "**Educational attainment**: The highest of the respondent  \n",
        "\n",
        "**Wealth index combined**: The socio-economic classification for each respondent\n",
        "\n",
        "**Total children ever born**: Total of born children for each woman\n",
        "\n",
        "**Sons who have died**: Number of sons died\n",
        "\n",
        "**Daughters who have died**: Number of daughters died  \n",
        "\n",
        "**Age at 1st birth**: Age of the respondent when she has her firts child\n",
        "\n",
        "**Currently pregnant**: Wheter the respondent is pregnant or not   \n",
        "\n",
        "**Time since last menstrual period**: Time passed since the last menstruations\n",
        "\n",
        "**Knowledge of ovulatory cycle**: Wheter the respondent knows the ovulatory cycle \n",
        "\n",
        "**Number of living children**: The number of children in life for each respondent\n",
        "\n",
        "**Last birth to interview (months**: The number of time passed since the last birth\n",
        "\n",
        "**Knowledge of any method**: Wheter the  respondent knows the contraceptive method\n",
        "\n",
        "**Ever used anything or tried to delay or avoid getting pregnant**: Wheter the  respondent tries to avoid to get pregnant\n",
        "\n",
        "**Current contraceptive method**: Which method method is uded by the respondent\n",
        "\n",
        "**Age at sterilization**: The age when the respondent stop to ovulate or she decide to not get pregnant anymore\n",
        "\n",
        "**Wanted last child**: Wheter the respondent want the last child or not\n",
        "\n",
        "**Currently amenorrheic**: If the respondent is amenorrheic\n",
        "\n",
        "**Current marital status**: The marital status of the respondent\n",
        "\n",
        "**Age at first sex**: The age of the respondent when she had sex for the first time\n",
        "\n",
        "**Ever been married or in union**: Wheter the respondent have been in union or not\n",
        "                                              \n",
        "**Fertility preference**: If the respondent want to have another child\n",
        "\n",
        "**Preferred waiting time for birth of a/another child**: The number of time before the next child\n",
        "\n",
        "**Desire for more children**: Desire to have more children\n",
        "\n",
        "**Ideal number of children (grouped)**: The number of children the the respondent think is good\n",
        "\n",
        "**Unmet need for contraception (definition )**: Reason for not using contraception\n",
        "\n",
        "**Respondent currently working**: Wheter the respondent works or not\n",
        "\n",
        "**Respondent's occupation**: The occupation of the respondent\n",
        "\n",
        "**Husband/partner's educational attainment**: Husband/partner's educational attainment for each respondent\n",
        "\n",
        "**Husband/partner's age**: The age of the respondent of each respondent\n",
        "\n",
        "**Total lifetime number of sex partners**: The number of sex partners of the respondent\n",
        "\n",
        "**Respondent can refuse sex**: Wheter the respondent can refuse sex or not\n",
        "\n",
        "**NA - First sex was wanted or forced**: Wheter the firstb sex was wanted or not                              \n"
      ]
    },
    {
      "cell_type": "code",
      "metadata": {
        "id": "-pA9df0-Ey68",
        "colab": {
          "base_uri": "https://localhost:8080/"
        },
        "outputId": "74e8e0a5-052c-43d8-a83e-7c793b868929"
      },
      "source": [
        "# verifying null values\n",
        "reprod.isnull().sum()"
      ],
      "execution_count": 267,
      "outputs": [
        {
          "output_type": "execute_result",
          "data": {
            "text/plain": [
              "Current age                                                           0\n",
              "Age in 5-year groups                                                  0\n",
              "Region                                                                0\n",
              "Place of residence                                                    0\n",
              "Highest educational level                                             0\n",
              "Religion                                                              0\n",
              "Wealth index combined                                                 0\n",
              "Total children ever born                                           1142\n",
              "Sons who have died                                                 1142\n",
              "Daughters who have died                                            1142\n",
              "Age at first birth                                                 6906\n",
              "Currently pregnant                                                 1142\n",
              "Time since last menstrual period                                   1142\n",
              "Knowledge of ovulatory cycle                                       1142\n",
              "Number of living children                                          1142\n",
              "Knowledge of any method                                            1142\n",
              "Ever used anything or tried to delay or avoid getting pregnant     1142\n",
              "Current contraceptive method                                       1142\n",
              "Wanted last child                                                 10508\n",
              "Currently amenorrheic                                              1142\n",
              "Current marital status                                             1142\n",
              "Age at first sex                                                   1142\n",
              "Ever been married or in union                                      8705\n",
              "Fertility preference                                               1142\n",
              "Ideal number of children                                           1159\n",
              "Ideal number of children (grouped)                                 1142\n",
              "Unmet need for contraception (definition 3)                        1142\n",
              "Respondent currently working                                       1142\n",
              "Total lifetime number of sex partners                              3655\n",
              "Respondent can refuse sex                                         10427\n",
              "Having sex                                                            0\n",
              "Knowing ovulatory cycle                                               0\n",
              "Using method                                                          0\n",
              "dtype: int64"
            ]
          },
          "metadata": {},
          "execution_count": 267
        }
      ]
    },
    {
      "cell_type": "code",
      "metadata": {
        "id": "k_3JO00KEy69",
        "colab": {
          "base_uri": "https://localhost:8080/",
          "height": 881
        },
        "outputId": "912284b2-9287-4980-fe47-c6e421465c5b"
      },
      "source": [
        "reprod"
      ],
      "execution_count": 218,
      "outputs": [
        {
          "output_type": "execute_result",
          "data": {
            "text/html": [
              "<div>\n",
              "<style scoped>\n",
              "    .dataframe tbody tr th:only-of-type {\n",
              "        vertical-align: middle;\n",
              "    }\n",
              "\n",
              "    .dataframe tbody tr th {\n",
              "        vertical-align: top;\n",
              "    }\n",
              "\n",
              "    .dataframe thead th {\n",
              "        text-align: right;\n",
              "    }\n",
              "</style>\n",
              "<table border=\"1\" class=\"dataframe\">\n",
              "  <thead>\n",
              "    <tr style=\"text-align: right;\">\n",
              "      <th></th>\n",
              "      <th>Current age</th>\n",
              "      <th>Age in 5-year groups</th>\n",
              "      <th>Region</th>\n",
              "      <th>Place of residence</th>\n",
              "      <th>Highest educational level</th>\n",
              "      <th>Religion</th>\n",
              "      <th>Wealth index combined</th>\n",
              "      <th>Total children ever born</th>\n",
              "      <th>Sons who have died</th>\n",
              "      <th>Daughters who have died</th>\n",
              "      <th>Age at first birth</th>\n",
              "      <th>Currently pregnant</th>\n",
              "      <th>Time since last menstrual period</th>\n",
              "      <th>Knowledge of ovulatory cycle</th>\n",
              "      <th>Number of living children</th>\n",
              "      <th>Knowledge of any method</th>\n",
              "      <th>Ever used anything or tried to delay or avoid getting pregnant</th>\n",
              "      <th>Current contraceptive method</th>\n",
              "      <th>Wanted last child</th>\n",
              "      <th>Currently amenorrheic</th>\n",
              "      <th>Current marital status</th>\n",
              "      <th>Age at first sex</th>\n",
              "      <th>Ever been married or in union</th>\n",
              "      <th>Fertility preference</th>\n",
              "      <th>Ideal number of children</th>\n",
              "      <th>Ideal number of children (grouped)</th>\n",
              "      <th>Unmet need for contraception (definition 3)</th>\n",
              "      <th>Respondent currently working</th>\n",
              "      <th>Total lifetime number of sex partners</th>\n",
              "      <th>Respondent can refuse sex</th>\n",
              "    </tr>\n",
              "  </thead>\n",
              "  <tbody>\n",
              "    <tr>\n",
              "      <th>0</th>\n",
              "      <td>18</td>\n",
              "      <td>15-19</td>\n",
              "      <td>Sud</td>\n",
              "      <td>Rural</td>\n",
              "      <td>Secondary</td>\n",
              "      <td>Protestant</td>\n",
              "      <td>Middle</td>\n",
              "      <td>0.0</td>\n",
              "      <td>0.0</td>\n",
              "      <td>0.0</td>\n",
              "      <td>NaN</td>\n",
              "      <td>No or unsure</td>\n",
              "      <td>102</td>\n",
              "      <td>After period ended</td>\n",
              "      <td>0.0</td>\n",
              "      <td>Knows modern method</td>\n",
              "      <td>No</td>\n",
              "      <td>Not using</td>\n",
              "      <td>NaN</td>\n",
              "      <td>No</td>\n",
              "      <td>Never in union</td>\n",
              "      <td>Not had sex</td>\n",
              "      <td>No</td>\n",
              "      <td>Have another</td>\n",
              "      <td>3</td>\n",
              "      <td>3</td>\n",
              "      <td>Never had sex</td>\n",
              "      <td>No</td>\n",
              "      <td>NaN</td>\n",
              "      <td>NaN</td>\n",
              "    </tr>\n",
              "    <tr>\n",
              "      <th>1</th>\n",
              "      <td>28</td>\n",
              "      <td>25-29</td>\n",
              "      <td>Sud</td>\n",
              "      <td>Rural</td>\n",
              "      <td>Secondary</td>\n",
              "      <td>Catholic</td>\n",
              "      <td>Poorest</td>\n",
              "      <td>0.0</td>\n",
              "      <td>0.0</td>\n",
              "      <td>0.0</td>\n",
              "      <td>NaN</td>\n",
              "      <td>Yes</td>\n",
              "      <td>304</td>\n",
              "      <td>Middle of the cycle</td>\n",
              "      <td>0.0</td>\n",
              "      <td>Knows modern method</td>\n",
              "      <td>No</td>\n",
              "      <td>Not using</td>\n",
              "      <td>NaN</td>\n",
              "      <td>No</td>\n",
              "      <td>Never in union</td>\n",
              "      <td>25</td>\n",
              "      <td>No</td>\n",
              "      <td>Have another</td>\n",
              "      <td>2</td>\n",
              "      <td>2</td>\n",
              "      <td>Unmet need for spacing</td>\n",
              "      <td>No</td>\n",
              "      <td>2</td>\n",
              "      <td>NaN</td>\n",
              "    </tr>\n",
              "    <tr>\n",
              "      <th>2</th>\n",
              "      <td>18</td>\n",
              "      <td>15-19</td>\n",
              "      <td>Sud</td>\n",
              "      <td>Rural</td>\n",
              "      <td>Primary</td>\n",
              "      <td>Catholic</td>\n",
              "      <td>Poorest</td>\n",
              "      <td>0.0</td>\n",
              "      <td>0.0</td>\n",
              "      <td>0.0</td>\n",
              "      <td>NaN</td>\n",
              "      <td>No or unsure</td>\n",
              "      <td>108</td>\n",
              "      <td>After period ended</td>\n",
              "      <td>0.0</td>\n",
              "      <td>Knows modern method</td>\n",
              "      <td>No</td>\n",
              "      <td>Not using</td>\n",
              "      <td>NaN</td>\n",
              "      <td>No</td>\n",
              "      <td>Never in union</td>\n",
              "      <td>17</td>\n",
              "      <td>No</td>\n",
              "      <td>Have another</td>\n",
              "      <td>3</td>\n",
              "      <td>3</td>\n",
              "      <td>Not married and no sex in last 30 days</td>\n",
              "      <td>No</td>\n",
              "      <td>1</td>\n",
              "      <td>NaN</td>\n",
              "    </tr>\n",
              "    <tr>\n",
              "      <th>3</th>\n",
              "      <td>33</td>\n",
              "      <td>30-34</td>\n",
              "      <td>Sud</td>\n",
              "      <td>Rural</td>\n",
              "      <td>Secondary</td>\n",
              "      <td>Protestant</td>\n",
              "      <td>Richer</td>\n",
              "      <td>1.0</td>\n",
              "      <td>0.0</td>\n",
              "      <td>0.0</td>\n",
              "      <td>33.0</td>\n",
              "      <td>No or unsure</td>\n",
              "      <td>302</td>\n",
              "      <td>Middle of the cycle</td>\n",
              "      <td>1.0</td>\n",
              "      <td>Knows modern method</td>\n",
              "      <td>No</td>\n",
              "      <td>Not using</td>\n",
              "      <td>Wanted then</td>\n",
              "      <td>No</td>\n",
              "      <td>Married</td>\n",
              "      <td>22</td>\n",
              "      <td>NaN</td>\n",
              "      <td>Have another</td>\n",
              "      <td>3</td>\n",
              "      <td>3</td>\n",
              "      <td>Unmet need for spacing</td>\n",
              "      <td>Yes</td>\n",
              "      <td>3</td>\n",
              "      <td>NaN</td>\n",
              "    </tr>\n",
              "    <tr>\n",
              "      <th>4</th>\n",
              "      <td>28</td>\n",
              "      <td>25-29</td>\n",
              "      <td>Sud</td>\n",
              "      <td>Rural</td>\n",
              "      <td>Secondary</td>\n",
              "      <td>Protestant</td>\n",
              "      <td>Richer</td>\n",
              "      <td>0.0</td>\n",
              "      <td>0.0</td>\n",
              "      <td>0.0</td>\n",
              "      <td>NaN</td>\n",
              "      <td>No or unsure</td>\n",
              "      <td>122</td>\n",
              "      <td>Middle of the cycle</td>\n",
              "      <td>0.0</td>\n",
              "      <td>Knows modern method</td>\n",
              "      <td>No</td>\n",
              "      <td>Not using</td>\n",
              "      <td>NaN</td>\n",
              "      <td>No</td>\n",
              "      <td>Married</td>\n",
              "      <td>25</td>\n",
              "      <td>NaN</td>\n",
              "      <td>Have another</td>\n",
              "      <td>3</td>\n",
              "      <td>3</td>\n",
              "      <td>No unmet need</td>\n",
              "      <td>No</td>\n",
              "      <td>1</td>\n",
              "      <td>NaN</td>\n",
              "    </tr>\n",
              "    <tr>\n",
              "      <th>...</th>\n",
              "      <td>...</td>\n",
              "      <td>...</td>\n",
              "      <td>...</td>\n",
              "      <td>...</td>\n",
              "      <td>...</td>\n",
              "      <td>...</td>\n",
              "      <td>...</td>\n",
              "      <td>...</td>\n",
              "      <td>...</td>\n",
              "      <td>...</td>\n",
              "      <td>...</td>\n",
              "      <td>...</td>\n",
              "      <td>...</td>\n",
              "      <td>...</td>\n",
              "      <td>...</td>\n",
              "      <td>...</td>\n",
              "      <td>...</td>\n",
              "      <td>...</td>\n",
              "      <td>...</td>\n",
              "      <td>...</td>\n",
              "      <td>...</td>\n",
              "      <td>...</td>\n",
              "      <td>...</td>\n",
              "      <td>...</td>\n",
              "      <td>...</td>\n",
              "      <td>...</td>\n",
              "      <td>...</td>\n",
              "      <td>...</td>\n",
              "      <td>...</td>\n",
              "      <td>...</td>\n",
              "    </tr>\n",
              "    <tr>\n",
              "      <th>15508</th>\n",
              "      <td>58</td>\n",
              "      <td>50+</td>\n",
              "      <td>Aire Metropolitaine</td>\n",
              "      <td>Urban</td>\n",
              "      <td>Primary</td>\n",
              "      <td>Protestant</td>\n",
              "      <td>Richest</td>\n",
              "      <td>NaN</td>\n",
              "      <td>NaN</td>\n",
              "      <td>NaN</td>\n",
              "      <td>NaN</td>\n",
              "      <td>NaN</td>\n",
              "      <td>NaN</td>\n",
              "      <td>NaN</td>\n",
              "      <td>NaN</td>\n",
              "      <td>NaN</td>\n",
              "      <td>NaN</td>\n",
              "      <td>NaN</td>\n",
              "      <td>NaN</td>\n",
              "      <td>NaN</td>\n",
              "      <td>NaN</td>\n",
              "      <td>NaN</td>\n",
              "      <td>NaN</td>\n",
              "      <td>NaN</td>\n",
              "      <td>NaN</td>\n",
              "      <td>NaN</td>\n",
              "      <td>NaN</td>\n",
              "      <td>NaN</td>\n",
              "      <td>NaN</td>\n",
              "      <td>NaN</td>\n",
              "    </tr>\n",
              "    <tr>\n",
              "      <th>15509</th>\n",
              "      <td>26</td>\n",
              "      <td>25-29</td>\n",
              "      <td>Aire Metropolitaine</td>\n",
              "      <td>Urban</td>\n",
              "      <td>Higher</td>\n",
              "      <td>Protestant</td>\n",
              "      <td>Richest</td>\n",
              "      <td>0.0</td>\n",
              "      <td>0.0</td>\n",
              "      <td>0.0</td>\n",
              "      <td>NaN</td>\n",
              "      <td>No or unsure</td>\n",
              "      <td>104</td>\n",
              "      <td>Middle of the cycle</td>\n",
              "      <td>0.0</td>\n",
              "      <td>Knows modern method</td>\n",
              "      <td>No</td>\n",
              "      <td>Not using</td>\n",
              "      <td>NaN</td>\n",
              "      <td>No</td>\n",
              "      <td>Never in union</td>\n",
              "      <td>Not had sex</td>\n",
              "      <td>No</td>\n",
              "      <td>Have another</td>\n",
              "      <td>1</td>\n",
              "      <td>1</td>\n",
              "      <td>Never had sex</td>\n",
              "      <td>No</td>\n",
              "      <td>NaN</td>\n",
              "      <td>NaN</td>\n",
              "    </tr>\n",
              "    <tr>\n",
              "      <th>15510</th>\n",
              "      <td>34</td>\n",
              "      <td>30-34</td>\n",
              "      <td>Aire Metropolitaine</td>\n",
              "      <td>Urban</td>\n",
              "      <td>Higher</td>\n",
              "      <td>Protestant</td>\n",
              "      <td>Richest</td>\n",
              "      <td>0.0</td>\n",
              "      <td>0.0</td>\n",
              "      <td>0.0</td>\n",
              "      <td>NaN</td>\n",
              "      <td>No or unsure</td>\n",
              "      <td>102</td>\n",
              "      <td>After period ended</td>\n",
              "      <td>0.0</td>\n",
              "      <td>Knows modern method</td>\n",
              "      <td>No</td>\n",
              "      <td>Not using</td>\n",
              "      <td>NaN</td>\n",
              "      <td>No</td>\n",
              "      <td>Never in union</td>\n",
              "      <td>Not had sex</td>\n",
              "      <td>No</td>\n",
              "      <td>Have another</td>\n",
              "      <td>1</td>\n",
              "      <td>1</td>\n",
              "      <td>Never had sex</td>\n",
              "      <td>Yes</td>\n",
              "      <td>NaN</td>\n",
              "      <td>NaN</td>\n",
              "    </tr>\n",
              "    <tr>\n",
              "      <th>15511</th>\n",
              "      <td>34</td>\n",
              "      <td>30-34</td>\n",
              "      <td>Aire Metropolitaine</td>\n",
              "      <td>Urban</td>\n",
              "      <td>Higher</td>\n",
              "      <td>Protestant</td>\n",
              "      <td>Richest</td>\n",
              "      <td>0.0</td>\n",
              "      <td>0.0</td>\n",
              "      <td>0.0</td>\n",
              "      <td>NaN</td>\n",
              "      <td>No or unsure</td>\n",
              "      <td>203</td>\n",
              "      <td>After period ended</td>\n",
              "      <td>0.0</td>\n",
              "      <td>Knows modern method</td>\n",
              "      <td>No</td>\n",
              "      <td>Not using</td>\n",
              "      <td>NaN</td>\n",
              "      <td>No</td>\n",
              "      <td>Never in union</td>\n",
              "      <td>Not had sex</td>\n",
              "      <td>No</td>\n",
              "      <td>Have another</td>\n",
              "      <td>1</td>\n",
              "      <td>1</td>\n",
              "      <td>Never had sex</td>\n",
              "      <td>No</td>\n",
              "      <td>NaN</td>\n",
              "      <td>NaN</td>\n",
              "    </tr>\n",
              "    <tr>\n",
              "      <th>15512</th>\n",
              "      <td>24</td>\n",
              "      <td>20-24</td>\n",
              "      <td>Aire Metropolitaine</td>\n",
              "      <td>Urban</td>\n",
              "      <td>Higher</td>\n",
              "      <td>Protestant</td>\n",
              "      <td>Richest</td>\n",
              "      <td>0.0</td>\n",
              "      <td>0.0</td>\n",
              "      <td>0.0</td>\n",
              "      <td>NaN</td>\n",
              "      <td>No or unsure</td>\n",
              "      <td>102</td>\n",
              "      <td>After period ended</td>\n",
              "      <td>0.0</td>\n",
              "      <td>Knows modern method</td>\n",
              "      <td>No</td>\n",
              "      <td>Not using</td>\n",
              "      <td>NaN</td>\n",
              "      <td>No</td>\n",
              "      <td>Never in union</td>\n",
              "      <td>16</td>\n",
              "      <td>No</td>\n",
              "      <td>Have another</td>\n",
              "      <td>2</td>\n",
              "      <td>2</td>\n",
              "      <td>Not married and no sex in last 30 days</td>\n",
              "      <td>Yes</td>\n",
              "      <td>1</td>\n",
              "      <td>NaN</td>\n",
              "    </tr>\n",
              "  </tbody>\n",
              "</table>\n",
              "<p>15513 rows × 30 columns</p>\n",
              "</div>"
            ],
            "text/plain": [
              "       Current age  ... Respondent can refuse sex\n",
              "0               18  ...                       NaN\n",
              "1               28  ...                       NaN\n",
              "2               18  ...                       NaN\n",
              "3               33  ...                       NaN\n",
              "4               28  ...                       NaN\n",
              "...            ...  ...                       ...\n",
              "15508           58  ...                       NaN\n",
              "15509           26  ...                       NaN\n",
              "15510           34  ...                       NaN\n",
              "15511           34  ...                       NaN\n",
              "15512           24  ...                       NaN\n",
              "\n",
              "[15513 rows x 30 columns]"
            ]
          },
          "metadata": {},
          "execution_count": 218
        }
      ]
    },
    {
      "cell_type": "code",
      "metadata": {
        "id": "-Fs6MI6GWpcf"
      },
      "source": [
        "reprod['Ideal number of children'].replace({\"Non-numeric response\": np.nan}, inplace=True)"
      ],
      "execution_count": 219,
      "outputs": []
    },
    {
      "cell_type": "code",
      "metadata": {
        "id": "SFnvQ_wpXET3"
      },
      "source": [
        "reprod['Ideal number of children']=reprod['Ideal number of children'].astype('float')"
      ],
      "execution_count": 220,
      "outputs": []
    },
    {
      "cell_type": "code",
      "metadata": {
        "colab": {
          "base_uri": "https://localhost:8080/",
          "height": 69
        },
        "id": "TGhk6kXUigBL",
        "outputId": "741f4c8e-c4ab-49a1-9aeb-760841456fd7"
      },
      "source": [
        "\"\"\"Les femmes sont considérées comme ayant atteint la ménopause si elles ne \n",
        "sont ni enceintes, ni en aménorrhée post-partum et si elles n’ont pas eu de \n",
        "règles pendant une période de six mois avant l’enquête, ou si elles déclarent \n",
        "qu’elles sont en ménopause ou qu’elles ont eu une hystérectomie, ou si elles \n",
        "n’ont jamais eu de règles.\"\"\""
      ],
      "execution_count": 221,
      "outputs": [
        {
          "output_type": "execute_result",
          "data": {
            "application/vnd.google.colaboratory.intrinsic+json": {
              "type": "string"
            },
            "text/plain": [
              "'Les femmes sont considérées comme ayant atteint la ménopause si elles ne \\nsont ni enceintes, ni en aménorrhée post-partum et si elles n’ont pas eu de \\nrègles pendant une période de six mois avant l’enquête, ou si elles déclarent \\nqu’elles sont en ménopause ou qu’elles ont eu une hystérectomie, ou si elles \\nn’ont jamais eu de règles.'"
            ]
          },
          "metadata": {},
          "execution_count": 221
        }
      ]
    },
    {
      "cell_type": "code",
      "metadata": {
        "colab": {
          "base_uri": "https://localhost:8080/"
        },
        "id": "mtSb9-KIusOc",
        "outputId": "23697ed7-020c-47e5-995f-522f9d392032"
      },
      "source": [
        "reprod[\"Having sex\"] = reprod[\"Age at first sex\"].apply(lambda x: \"No\" if x==\"Not had sex\" else \"Yes\")\n",
        "reprod[\"Knowing ovulatory cycle\"] = reprod[\"Knowledge of ovulatory cycle\"].apply(lambda x: \"Yes\" if x==\"Before period begins\" else \"No\")\n",
        "reprod[\"Using method\"] = reprod[\"Current contraceptive method\"].apply(lambda x: \"No\" if x==\"Not using\" else \"Yes\")\n",
        "reprod_hc = reprod[reprod['Total children ever born']>=1]\n",
        "reprod_prec = reprod_hc[reprod_hc[\"Age in 5-year groups\"]==\"15-19\"]\n",
        "pop_15_19 = reprod[reprod[\"Age in 5-year groups\"]==\"15-19\"]\n",
        "pop_15_19[\"Early pregnancy\"] = None\n",
        "pop_15_19[\"Early pregnancy\"] = pop_15_19[\"Currently pregnant\"].apply(lambda x: \"Yes\" if x==\"Yes\" else \"No\")\n",
        "pop_15_19[\"Early pregnancy\"] = pop_15_19[\"Total children ever born\"].apply(lambda x: \"Yes\" if x>=1.0 else \"No\")"
      ],
      "execution_count": 222,
      "outputs": [
        {
          "output_type": "stream",
          "name": "stderr",
          "text": [
            "/usr/local/lib/python3.7/dist-packages/ipykernel_launcher.py:7: SettingWithCopyWarning: \n",
            "A value is trying to be set on a copy of a slice from a DataFrame.\n",
            "Try using .loc[row_indexer,col_indexer] = value instead\n",
            "\n",
            "See the caveats in the documentation: https://pandas.pydata.org/pandas-docs/stable/user_guide/indexing.html#returning-a-view-versus-a-copy\n",
            "  import sys\n",
            "/usr/local/lib/python3.7/dist-packages/ipykernel_launcher.py:8: SettingWithCopyWarning: \n",
            "A value is trying to be set on a copy of a slice from a DataFrame.\n",
            "Try using .loc[row_indexer,col_indexer] = value instead\n",
            "\n",
            "See the caveats in the documentation: https://pandas.pydata.org/pandas-docs/stable/user_guide/indexing.html#returning-a-view-versus-a-copy\n",
            "  \n",
            "/usr/local/lib/python3.7/dist-packages/ipykernel_launcher.py:9: SettingWithCopyWarning: \n",
            "A value is trying to be set on a copy of a slice from a DataFrame.\n",
            "Try using .loc[row_indexer,col_indexer] = value instead\n",
            "\n",
            "See the caveats in the documentation: https://pandas.pydata.org/pandas-docs/stable/user_guide/indexing.html#returning-a-view-versus-a-copy\n",
            "  if __name__ == '__main__':\n"
          ]
        }
      ]
    },
    {
      "cell_type": "code",
      "metadata": {
        "id": "gbzGvhmTwTOn"
      },
      "source": [
        "l = reprod_hc[\"Time since last menstrual period\"].to_list()\n",
        "l4 = [x for x in l if str(x)[0]==\"4\"]\n",
        "l3 = [x for x in l if str(x)[0]==\"3\" ]\n",
        "l3 = [str(x) for x in l3 if int(x)>305]\n",
        "l5 = [\"Never menstruated\", 'In menopause/had hysterectomy']\n",
        "menopause_list = l4+l3+l5\n",
        "menopause = reprod_hc[reprod_hc[\"Time since last menstrual period\"].isin(menopause_list)]"
      ],
      "execution_count": 223,
      "outputs": []
    },
    {
      "cell_type": "markdown",
      "metadata": {
        "id": "WHp-JTxP10Uu"
      },
      "source": [
        "# Data Analysis\n",
        "Explore the dataset to discover relationships between records or columns and patterns within the data.\n",
        "\n",
        "## Descriptive Statistical Analysis\n",
        "Using basic statistical measures such as measurements of central tendancy such as mean, median and mode.\n",
        "\n",
        "### Distribution of Variables\n",
        "Identify the distribution of the data to understand the range of values and how the data is structured.\n",
        "\n",
        "### Outliers in the dataset\n",
        "Identify if there are any outliers in the dataset based on statistical measures."
      ]
    },
    {
      "cell_type": "markdown",
      "metadata": {
        "id": "gzOqBRtwDpx0"
      },
      "source": [
        "## Building functions for the Analysis"
      ]
    },
    {
      "cell_type": "code",
      "metadata": {
        "id": "2MfaTTLLEy7B"
      },
      "source": [
        "\"\"\"def label_function(val):\n",
        "    return f'{val / 100 * len(reprod):.0f}\\n{val:.0f}%'\"\"\"\n",
        "\n",
        "def plotsubs(data = reprod, col1 = \"\", col2 = \"\", kind1 = \"\", kind2=\"\", hue=''):\n",
        "  fig, (ax1, ax2) = plt.subplots(ncols=2, figsize=(12, 5))\n",
        "  df = data.groupby(col1).size()\n",
        "  df.plot(kind=kind1, textprops={'fontsize': 10}, ax=ax1)\n",
        "  #reprod.groupby(col2).size().plot(kind= kind2, autopct=label_function, textprops={'fontsize': 10}, ax=ax2)\n",
        "  if hue=='yes':\n",
        "    sns.countplot(data=data, y=col2,ax=ax2, hue = col1, palette = \"Set2\")\n",
        "  else:\n",
        "    sns.countplot(data=data, y=col2, ax=ax2, palette = \"Set2\")\n",
        "  ax1.set_ylabel(f'Per {col1}', size=22)\n",
        "  ax2.set_ylabel(f'Per {col2}', size=22)\n",
        "  plt.tight_layout()\n",
        "  plt.figtext(0.65, 0.0001, \"Source: EMMUS 2016-2017\", fontsize=15)\n",
        "  plt.show()\n",
        "\n",
        "def chartrelation(data = reprod, col1 = \"\", col2 = \"\", test = False):\n",
        "  fig, (ax1, ax2) = plt.subplots(ncols=2, figsize=(12, 5))\n",
        "  tab = pd.crosstab(data[col1], data[col2])\n",
        "  sns.countplot(data=data, y=col1 ,ax=ax1, palette = \"Set2\")\n",
        "  tab.plot(kind=\"bar\", ax=ax2)\n",
        "  plt.figtext(0.65, 0.0001, \"Source: EMMUS 2016-2017\", fontsize=15)\n",
        "  \n",
        "  if test is True:\n",
        "    stat, p, dof, expected = stats.chi2_contingency(tab)\n",
        "    if p > 0.05:\n",
        "      print(f\"{col1} and {col2} are Probably independent with a significance level of 5%.\")\n",
        "    else:\n",
        "      print(f\"{col1} and {col2} are Probably Dependent with a significance level of 5%.\")\n",
        "  return tab\n",
        "\n",
        "def numplot(data = reprod, col1 = \"\", col2 = \"\", test = False, kde = False ):\n",
        "  fig, (ax1, ax2) = plt.subplots(ncols=2, figsize=(20, 6))\n",
        "  ax1.set_title(f\"Distribution of {col1} of the respondents\", fontsize=18)\n",
        "  ax1.set_xlabel(f\"{col1}\", fontsize=16)\n",
        "  ax1.set_ylabel('Frequency', fontsize=16)\n",
        "  if kde is True:\n",
        "    sns.histplot(data[col1], kde=1, bins=20, ax = ax1, palette = \"Set2\")\n",
        "  else:\n",
        "    sns.histplot(data[col1], bins=20, ax = ax1, palette = \"Set2\")\n",
        "  sns.boxplot(data=data, x=col1, y=col2, ax=ax2, palette = \"Set2\" )\n",
        "  ax2.set_title(f\"Distribution of {col1} by {col2}\", fontsize=18)\n",
        "  ax2.set_xlabel(f\"{col1}\", fontsize=16)\n",
        "  ax2.set_ylabel(f\"{col2}\", fontsize=16)\n",
        "  plt.figtext(0.65, 0.0001, \"Source: EMMUS 2016-2017\", fontsize=15)\n",
        "  plt.show\n",
        "  if test is True:\n",
        "    a = stats.jarque_bera(data[col1])\n",
        "    if a[1]<0.5:\n",
        "      print(f\"The corresponding p-value is {a[1]}. The p-value is less than 0.05, we reject the null hypothesis. \\nNow we have sufficient evidence to say that this data has skewness and kurtosis which is different \\nfrom a normal distribution.\")\n",
        "    else:\n",
        "      print(f\"The corresponding p-value is {a[1]}. The p-value is less than 0.05, we can reject the null hypothesis. \\nNow we don't have sufficient evidence to say that this data has skewness and kurtosis which is different \\nfrom a normal distribution.\") \n",
        "\n",
        "\n",
        "def meanfilter(data = reprod_hc, xfilter = 'Highest educational level', ynum1 = 'Total children ever born', ynum2 = 'Ideal number of children', meanfil1=\"Mean number of children\", meanfil2='Ideal mean number of children'):\n",
        "  b = data.groupby([xfilter]).agg({ynum1: 'sum'})\n",
        "  c = data.groupby([xfilter]).agg({ynum2: 'sum'})\n",
        "  a = pd.concat([c,b], axis=1)\n",
        "  a[meanfil1] = a[ynum1].apply(lambda x: x/len(data[data[xfilter]==a[a[ynum1]==x].index[0]]))\n",
        "  a[meanfil2] = a[ynum2].apply(lambda x: x/len(data[data[xfilter]==a[a[ynum2]==x].index[0]]))\n",
        "  a.sort_values(meanfil1, inplace=True)\n",
        "  j = a.iloc[:, 2:]\n",
        "  d = j.reset_index()\n",
        "  d = d.melt(xfilter, var_name='cols',  value_name='vals')\n",
        "  ax = sns.pointplot(x=xfilter, y=\"vals\", hue='cols', data=d, palette=\"Set2\", figsize=(10,6))\n",
        "  plt.figtext(0.65, 0.0001, \"Source: EMMUS 2016-2017\", fontsize=15)\n",
        "  return j\n",
        "\n",
        "def createdf(data, x=\"\"):\n",
        "  a = data[x].value_counts().to_frame()\n",
        "  a[\"Frequence\"] = a[x]/data.shape[0]\n",
        "  return a"
      ],
      "execution_count": 224,
      "outputs": []
    },
    {
      "cell_type": "code",
      "metadata": {
        "id": "5EfG9qEEqnwq",
        "colab": {
          "base_uri": "https://localhost:8080/"
        },
        "outputId": "d272ab47-9040-4617-c298-a10006b4b7e7"
      },
      "source": [
        "reprod.groupby(\"Currently pregnant\").size().to_list()[0]"
      ],
      "execution_count": 225,
      "outputs": [
        {
          "output_type": "execute_result",
          "data": {
            "text/plain": [
              "13635"
            ]
          },
          "metadata": {},
          "execution_count": 225
        }
      ]
    },
    {
      "cell_type": "markdown",
      "metadata": {
        "id": "VyHdij2xCk-z"
      },
      "source": [
        "## Socio-Demographic variables"
      ]
    },
    {
      "cell_type": "code",
      "metadata": {
        "id": "GvXiXjWl4SRR",
        "colab": {
          "base_uri": "https://localhost:8080/",
          "height": 400
        },
        "outputId": "c34c28a9-415e-430a-c535-4c7887c3576f"
      },
      "source": [
        "print(\"Graphic #1\")\n",
        "plotsubs(col1 = \"Place of residence\", col2 = \"Religion\", kind1=\"pie\", kind2=\"pie\")"
      ],
      "execution_count": 226,
      "outputs": [
        {
          "output_type": "stream",
          "name": "stdout",
          "text": [
            "Graphic #1\n"
          ]
        },
        {
          "output_type": "display_data",
          "data": {
            "image/png": "[encoded data removed]",
            "text/plain": [
              "<Figure size 864x360 with 2 Axes>"
            ]
          },
          "metadata": {
            "needs_background": "light"
          }
        }
      ]
    },
    {
      "cell_type": "code",
      "metadata": {
        "id": "7imd5tbuACku",
        "colab": {
          "base_uri": "https://localhost:8080/",
          "height": 395
        },
        "outputId": "6928408f-bf40-4cbf-d020-b8beaf842101"
      },
      "source": [
        "print(\"Graphic #2\")\n",
        "plotsubs(col1 = \"Wealth index combined\", col2 = \"Highest educational level\", kind1=\"pie\", kind2=\"pie\")"
      ],
      "execution_count": 227,
      "outputs": [
        {
          "output_type": "stream",
          "name": "stdout",
          "text": [
            "Graphic #2\n"
          ]
        },
        {
          "output_type": "display_data",
          "data": {
            "image/png": "[encoded data removed]",
            "text/plain": [
              "<Figure size 864x360 with 2 Axes>"
            ]
          },
          "metadata": {
            "needs_background": "light"
          }
        }
      ]
    },
    {
      "cell_type": "code",
      "metadata": {
        "id": "QDggb1JmBEOV",
        "colab": {
          "base_uri": "https://localhost:8080/",
          "height": 839
        },
        "outputId": "e469481e-aeaa-47fe-fd75-ddbcfe034c8f"
      },
      "source": [
        "print(\"Graphic #3\")\n",
        "chartrelation(test=\"Yes\", col1=\"Region\", col2=\"Place of residence\")"
      ],
      "execution_count": 228,
      "outputs": [
        {
          "output_type": "stream",
          "name": "stdout",
          "text": [
            "Graphic #3\n"
          ]
        },
        {
          "output_type": "execute_result",
          "data": {
            "text/html": [
              "<div>\n",
              "<style scoped>\n",
              "    .dataframe tbody tr th:only-of-type {\n",
              "        vertical-align: middle;\n",
              "    }\n",
              "\n",
              "    .dataframe tbody tr th {\n",
              "        vertical-align: top;\n",
              "    }\n",
              "\n",
              "    .dataframe thead th {\n",
              "        text-align: right;\n",
              "    }\n",
              "</style>\n",
              "<table border=\"1\" class=\"dataframe\">\n",
              "  <thead>\n",
              "    <tr style=\"text-align: right;\">\n",
              "      <th>Place of residence</th>\n",
              "      <th>Rural</th>\n",
              "      <th>Urban</th>\n",
              "    </tr>\n",
              "    <tr>\n",
              "      <th>Region</th>\n",
              "      <th></th>\n",
              "      <th></th>\n",
              "    </tr>\n",
              "  </thead>\n",
              "  <tbody>\n",
              "    <tr>\n",
              "      <th>Aire Metropolitaine</th>\n",
              "      <td>0</td>\n",
              "      <td>2198</td>\n",
              "    </tr>\n",
              "    <tr>\n",
              "      <th>Artibonite</th>\n",
              "      <td>1144</td>\n",
              "      <td>752</td>\n",
              "    </tr>\n",
              "    <tr>\n",
              "      <th>Centre</th>\n",
              "      <td>944</td>\n",
              "      <td>268</td>\n",
              "    </tr>\n",
              "    <tr>\n",
              "      <th>Grand'Anse</th>\n",
              "      <td>719</td>\n",
              "      <td>309</td>\n",
              "    </tr>\n",
              "    <tr>\n",
              "      <th>Nippes</th>\n",
              "      <td>831</td>\n",
              "      <td>138</td>\n",
              "    </tr>\n",
              "    <tr>\n",
              "      <th>Nord</th>\n",
              "      <td>848</td>\n",
              "      <td>705</td>\n",
              "    </tr>\n",
              "    <tr>\n",
              "      <th>Nord-Est</th>\n",
              "      <td>641</td>\n",
              "      <td>537</td>\n",
              "    </tr>\n",
              "    <tr>\n",
              "      <th>Nord-Ouest</th>\n",
              "      <td>1101</td>\n",
              "      <td>460</td>\n",
              "    </tr>\n",
              "    <tr>\n",
              "      <th>Rest-Ouest</th>\n",
              "      <td>1256</td>\n",
              "      <td>238</td>\n",
              "    </tr>\n",
              "    <tr>\n",
              "      <th>Sud</th>\n",
              "      <td>998</td>\n",
              "      <td>285</td>\n",
              "    </tr>\n",
              "    <tr>\n",
              "      <th>Sud-Est</th>\n",
              "      <td>944</td>\n",
              "      <td>197</td>\n",
              "    </tr>\n",
              "  </tbody>\n",
              "</table>\n",
              "</div>"
            ],
            "text/plain": [
              "Place of residence   Rural  Urban\n",
              "Region                           \n",
              "Aire Metropolitaine      0   2198\n",
              "Artibonite            1144    752\n",
              "Centre                 944    268\n",
              "Grand'Anse             719    309\n",
              "Nippes                 831    138\n",
              "Nord                   848    705\n",
              "Nord-Est               641    537\n",
              "Nord-Ouest            1101    460\n",
              "Rest-Ouest            1256    238\n",
              "Sud                    998    285\n",
              "Sud-Est                944    197"
            ]
          },
          "metadata": {},
          "execution_count": 228
        },
        {
          "output_type": "display_data",
          "data": {
            "image/png": "[encoded data removed]",
            "text/plain": [
              "<Figure size 864x360 with 2 Axes>"
            ]
          },
          "metadata": {
            "needs_background": "light"
          }
        }
      ]
    },
    {
      "cell_type": "code",
      "metadata": {
        "id": "Pj9dV54r3Fsy",
        "colab": {
          "base_uri": "https://localhost:8080/",
          "height": 451
        },
        "outputId": "b316400e-24a2-43c5-9f61-8d337524815a"
      },
      "source": [
        "print(\"Graphic #4\")\n",
        "numplot(data=reprod, col1 =\"Current age\", col2=\"Highest educational level\", kde = True)"
      ],
      "execution_count": 229,
      "outputs": [
        {
          "output_type": "stream",
          "name": "stdout",
          "text": [
            "Graphic #4\n"
          ]
        },
        {
          "output_type": "display_data",
          "data": {
            "image/png": "[encoded data removed]",
            "text/plain": [
              "<Figure size 1440x432 with 2 Axes>"
            ]
          },
          "metadata": {
            "needs_background": "light"
          }
        }
      ]
    },
    {
      "cell_type": "code",
      "metadata": {
        "id": "-SK-v2MlskPv",
        "colab": {
          "base_uri": "https://localhost:8080/",
          "height": 451
        },
        "outputId": "5e2eac95-c4a3-40dd-df47-5bdc3a2c745f"
      },
      "source": [
        "print(\"Graphic #5\")\n",
        "numplot(data=reprod_hc, col1 =\"Total children ever born\", col2=\"Place of residence\")"
      ],
      "execution_count": 230,
      "outputs": [
        {
          "output_type": "stream",
          "name": "stdout",
          "text": [
            "Graphic #5\n"
          ]
        },
        {
          "output_type": "display_data",
          "data": {
            "image/png": "[encoded data removed]",
            "text/plain": [
              "<Figure size 1440x432 with 2 Axes>"
            ]
          },
          "metadata": {
            "needs_background": "light"
          }
        }
      ]
    },
    {
      "cell_type": "code",
      "metadata": {
        "id": "OAph17Huqz8F",
        "colab": {
          "base_uri": "https://localhost:8080/",
          "height": 337
        },
        "outputId": "9ea8b5f7-9602-4a94-e9cf-62a6b2ebf6a7"
      },
      "source": [
        "print(\"Graphic #6\")\n",
        "sns.boxplot(data=reprod_hc, x=\"Wealth index combined\", y=\"Total children ever born\", palette = \"Set2\")\n",
        "plt.title(\"Distribution of total born children by Wealth index\")\n",
        "plt.figtext(0.65, 0.0001, \"Source: EMMUS 2016-2017\", fontsize=15)"
      ],
      "execution_count": 231,
      "outputs": [
        {
          "output_type": "stream",
          "name": "stdout",
          "text": [
            "Graphic #6\n"
          ]
        },
        {
          "output_type": "execute_result",
          "data": {
            "text/plain": [
              "Text(0.65, 0.0001, 'Source: EMMUS 2016-2017')"
            ]
          },
          "metadata": {},
          "execution_count": 231
        },
        {
          "output_type": "display_data",
          "data": {
            "image/png": "[encoded data removed]",
            "text/plain": [
              "<Figure size 432x288 with 1 Axes>"
            ]
          },
          "metadata": {
            "needs_background": "light"
          }
        }
      ]
    },
    {
      "cell_type": "code",
      "metadata": {
        "id": "T4xU8mrISEj-",
        "colab": {
          "base_uri": "https://localhost:8080/",
          "height": 502
        },
        "outputId": "7fcfca5a-d482-4249-c324-907d54d3460e"
      },
      "source": [
        "print(\"Graphic #7\")\n",
        "numplot(data=reprod_hc, col1 =\"Age at first birth\", col2=\"Highest educational level\", kde=True, test=True)"
      ],
      "execution_count": 232,
      "outputs": [
        {
          "output_type": "stream",
          "name": "stdout",
          "text": [
            "Graphic #7\n",
            "The corresponding p-value is 0.0. The p-value is less than 0.05, we reject the null hypothesis. \n",
            "Now we have sufficient evidence to say that this data has skewness and kurtosis which is different \n",
            "from a normal distribution.\n"
          ]
        },
        {
          "output_type": "display_data",
          "data": {
            "image/png": "[encoded data removed]",
            "text/plain": [
              "<Figure size 1440x432 with 2 Axes>"
            ]
          },
          "metadata": {
            "needs_background": "light"
          }
        }
      ]
    },
    {
      "cell_type": "code",
      "metadata": {
        "colab": {
          "base_uri": "https://localhost:8080/",
          "height": 111
        },
        "id": "7y6WmVtrDAa3",
        "outputId": "fbb5ab39-02ed-4445-9050-442f1f07600d"
      },
      "source": [
        "createdf(data = reprod_hc, x=\"Respondent currently working\")"
      ],
      "execution_count": 272,
      "outputs": [
        {
          "output_type": "execute_result",
          "data": {
            "text/html": [
              "<div>\n",
              "<style scoped>\n",
              "    .dataframe tbody tr th:only-of-type {\n",
              "        vertical-align: middle;\n",
              "    }\n",
              "\n",
              "    .dataframe tbody tr th {\n",
              "        vertical-align: top;\n",
              "    }\n",
              "\n",
              "    .dataframe thead th {\n",
              "        text-align: right;\n",
              "    }\n",
              "</style>\n",
              "<table border=\"1\" class=\"dataframe\">\n",
              "  <thead>\n",
              "    <tr style=\"text-align: right;\">\n",
              "      <th></th>\n",
              "      <th>Respondent currently working</th>\n",
              "      <th>Frequence</th>\n",
              "    </tr>\n",
              "  </thead>\n",
              "  <tbody>\n",
              "    <tr>\n",
              "      <th>Yes</th>\n",
              "      <td>5064</td>\n",
              "      <td>0.588358</td>\n",
              "    </tr>\n",
              "    <tr>\n",
              "      <th>No</th>\n",
              "      <td>3543</td>\n",
              "      <td>0.411642</td>\n",
              "    </tr>\n",
              "  </tbody>\n",
              "</table>\n",
              "</div>"
            ],
            "text/plain": [
              "     Respondent currently working  Frequence\n",
              "Yes                          5064   0.588358\n",
              "No                           3543   0.411642"
            ]
          },
          "metadata": {},
          "execution_count": 272
        }
      ]
    },
    {
      "cell_type": "code",
      "metadata": {
        "id": "J0dB4M8VDxLe"
      },
      "source": [
        "#meanfilter(data = reprod_hc, xfilter = 'Respondent currently working')"
      ],
      "execution_count": 276,
      "outputs": []
    },
    {
      "cell_type": "code",
      "metadata": {
        "id": "SQcGy2HIY7W1",
        "colab": {
          "base_uri": "https://localhost:8080/",
          "height": 491
        },
        "outputId": "fb1dd42e-2b6b-4866-8129-56a06621f85e"
      },
      "source": [
        "print(\"Graphic #8\")\n",
        "meanfilter()"
      ],
      "execution_count": 233,
      "outputs": [
        {
          "output_type": "stream",
          "name": "stdout",
          "text": [
            "Graphic #8\n"
          ]
        },
        {
          "output_type": "execute_result",
          "data": {
            "text/html": [
              "<div>\n",
              "<style scoped>\n",
              "    .dataframe tbody tr th:only-of-type {\n",
              "        vertical-align: middle;\n",
              "    }\n",
              "\n",
              "    .dataframe tbody tr th {\n",
              "        vertical-align: top;\n",
              "    }\n",
              "\n",
              "    .dataframe thead th {\n",
              "        text-align: right;\n",
              "    }\n",
              "</style>\n",
              "<table border=\"1\" class=\"dataframe\">\n",
              "  <thead>\n",
              "    <tr style=\"text-align: right;\">\n",
              "      <th></th>\n",
              "      <th>Mean number of children</th>\n",
              "      <th>Ideal mean number of children</th>\n",
              "    </tr>\n",
              "    <tr>\n",
              "      <th>Highest educational level</th>\n",
              "      <th></th>\n",
              "      <th></th>\n",
              "    </tr>\n",
              "  </thead>\n",
              "  <tbody>\n",
              "    <tr>\n",
              "      <th>Higher</th>\n",
              "      <td>1.674497</td>\n",
              "      <td>2.785235</td>\n",
              "    </tr>\n",
              "    <tr>\n",
              "      <th>Secondary</th>\n",
              "      <td>2.079050</td>\n",
              "      <td>2.798959</td>\n",
              "    </tr>\n",
              "    <tr>\n",
              "      <th>Primary</th>\n",
              "      <td>3.413174</td>\n",
              "      <td>3.085030</td>\n",
              "    </tr>\n",
              "    <tr>\n",
              "      <th>No education</th>\n",
              "      <td>5.023219</td>\n",
              "      <td>3.508179</td>\n",
              "    </tr>\n",
              "  </tbody>\n",
              "</table>\n",
              "</div>"
            ],
            "text/plain": [
              "                           Mean number of children  Ideal mean number of children\n",
              "Highest educational level                                                        \n",
              "Higher                                    1.674497                       2.785235\n",
              "Secondary                                 2.079050                       2.798959\n",
              "Primary                                   3.413174                       3.085030\n",
              "No education                              5.023219                       3.508179"
            ]
          },
          "metadata": {},
          "execution_count": 233
        },
        {
          "output_type": "display_data",
          "data": {
            "image/png": "[encoded data removed]",
            "text/plain": [
              "<Figure size 432x288 with 1 Axes>"
            ]
          },
          "metadata": {
            "needs_background": "light"
          }
        }
      ]
    },
    {
      "cell_type": "code",
      "metadata": {
        "id": "EzGuszQel8Yl",
        "colab": {
          "base_uri": "https://localhost:8080/",
          "height": 584
        },
        "outputId": "8dab54cc-dab1-40c6-993a-4e2375085500"
      },
      "source": [
        "print(\"Graphic #9\")\n",
        "meanfilter(data = reprod_hc, xfilter = 'Age in 5-year groups')\n"
      ],
      "execution_count": 234,
      "outputs": [
        {
          "output_type": "stream",
          "name": "stdout",
          "text": [
            "Graphic #9\n"
          ]
        },
        {
          "output_type": "execute_result",
          "data": {
            "text/html": [
              "<div>\n",
              "<style scoped>\n",
              "    .dataframe tbody tr th:only-of-type {\n",
              "        vertical-align: middle;\n",
              "    }\n",
              "\n",
              "    .dataframe tbody tr th {\n",
              "        vertical-align: top;\n",
              "    }\n",
              "\n",
              "    .dataframe thead th {\n",
              "        text-align: right;\n",
              "    }\n",
              "</style>\n",
              "<table border=\"1\" class=\"dataframe\">\n",
              "  <thead>\n",
              "    <tr style=\"text-align: right;\">\n",
              "      <th></th>\n",
              "      <th>Mean number of children</th>\n",
              "      <th>Ideal mean number of children</th>\n",
              "    </tr>\n",
              "    <tr>\n",
              "      <th>Age in 5-year groups</th>\n",
              "      <th></th>\n",
              "      <th></th>\n",
              "    </tr>\n",
              "  </thead>\n",
              "  <tbody>\n",
              "    <tr>\n",
              "      <th>15-19</th>\n",
              "      <td>1.131206</td>\n",
              "      <td>2.429078</td>\n",
              "    </tr>\n",
              "    <tr>\n",
              "      <th>20-24</th>\n",
              "      <td>1.495098</td>\n",
              "      <td>2.614379</td>\n",
              "    </tr>\n",
              "    <tr>\n",
              "      <th>25-29</th>\n",
              "      <td>2.106383</td>\n",
              "      <td>2.797550</td>\n",
              "    </tr>\n",
              "    <tr>\n",
              "      <th>30-34</th>\n",
              "      <td>2.850985</td>\n",
              "      <td>3.002463</td>\n",
              "    </tr>\n",
              "    <tr>\n",
              "      <th>35-39</th>\n",
              "      <td>3.778802</td>\n",
              "      <td>3.212640</td>\n",
              "    </tr>\n",
              "    <tr>\n",
              "      <th>40-44</th>\n",
              "      <td>4.668016</td>\n",
              "      <td>3.398381</td>\n",
              "    </tr>\n",
              "    <tr>\n",
              "      <th>45-49</th>\n",
              "      <td>5.339590</td>\n",
              "      <td>3.591297</td>\n",
              "    </tr>\n",
              "  </tbody>\n",
              "</table>\n",
              "</div>"
            ],
            "text/plain": [
              "                      Mean number of children  Ideal mean number of children\n",
              "Age in 5-year groups                                                        \n",
              "15-19                                1.131206                       2.429078\n",
              "20-24                                1.495098                       2.614379\n",
              "25-29                                2.106383                       2.797550\n",
              "30-34                                2.850985                       3.002463\n",
              "35-39                                3.778802                       3.212640\n",
              "40-44                                4.668016                       3.398381\n",
              "45-49                                5.339590                       3.591297"
            ]
          },
          "metadata": {},
          "execution_count": 234
        },
        {
          "output_type": "display_data",
          "data": {
            "image/png": "[encoded data removed]",
            "text/plain": [
              "<Figure size 432x288 with 1 Axes>"
            ]
          },
          "metadata": {
            "needs_background": "light"
          }
        }
      ]
    },
    {
      "cell_type": "code",
      "metadata": {
        "id": "xBBT8g9stD07",
        "colab": {
          "base_uri": "https://localhost:8080/",
          "height": 522
        },
        "outputId": "02dcb01a-131a-40af-c3e0-6b11c9173af3"
      },
      "source": [
        "print(\"Graphic #10\")\n",
        "meanfilter(xfilter='Wealth index combined')"
      ],
      "execution_count": 235,
      "outputs": [
        {
          "output_type": "stream",
          "name": "stdout",
          "text": [
            "Graphic #10\n"
          ]
        },
        {
          "output_type": "execute_result",
          "data": {
            "text/html": [
              "<div>\n",
              "<style scoped>\n",
              "    .dataframe tbody tr th:only-of-type {\n",
              "        vertical-align: middle;\n",
              "    }\n",
              "\n",
              "    .dataframe tbody tr th {\n",
              "        vertical-align: top;\n",
              "    }\n",
              "\n",
              "    .dataframe thead th {\n",
              "        text-align: right;\n",
              "    }\n",
              "</style>\n",
              "<table border=\"1\" class=\"dataframe\">\n",
              "  <thead>\n",
              "    <tr style=\"text-align: right;\">\n",
              "      <th></th>\n",
              "      <th>Mean number of children</th>\n",
              "      <th>Ideal mean number of children</th>\n",
              "    </tr>\n",
              "    <tr>\n",
              "      <th>Wealth index combined</th>\n",
              "      <th></th>\n",
              "      <th></th>\n",
              "    </tr>\n",
              "  </thead>\n",
              "  <tbody>\n",
              "    <tr>\n",
              "      <th>Richest</th>\n",
              "      <td>2.194527</td>\n",
              "      <td>2.906805</td>\n",
              "    </tr>\n",
              "    <tr>\n",
              "      <th>Richer</th>\n",
              "      <td>2.632963</td>\n",
              "      <td>2.915839</td>\n",
              "    </tr>\n",
              "    <tr>\n",
              "      <th>Middle</th>\n",
              "      <td>3.107082</td>\n",
              "      <td>2.898584</td>\n",
              "    </tr>\n",
              "    <tr>\n",
              "      <th>Poorer</th>\n",
              "      <td>3.748045</td>\n",
              "      <td>3.190503</td>\n",
              "    </tr>\n",
              "    <tr>\n",
              "      <th>Poorest</th>\n",
              "      <td>4.094520</td>\n",
              "      <td>3.338361</td>\n",
              "    </tr>\n",
              "  </tbody>\n",
              "</table>\n",
              "</div>"
            ],
            "text/plain": [
              "                       Mean number of children  Ideal mean number of children\n",
              "Wealth index combined                                                        \n",
              "Richest                               2.194527                       2.906805\n",
              "Richer                                2.632963                       2.915839\n",
              "Middle                                3.107082                       2.898584\n",
              "Poorer                                3.748045                       3.190503\n",
              "Poorest                               4.094520                       3.338361"
            ]
          },
          "metadata": {},
          "execution_count": 235
        },
        {
          "output_type": "display_data",
          "data": {
            "image/png": "[encoded data removed]",
            "text/plain": [
              "<Figure size 432x288 with 1 Axes>"
            ]
          },
          "metadata": {
            "needs_background": "light"
          }
        }
      ]
    },
    {
      "cell_type": "code",
      "metadata": {
        "id": "owokXYAOxUfZ",
        "colab": {
          "base_uri": "https://localhost:8080/",
          "height": 142
        },
        "outputId": "fa18fb2d-ebb4-4cab-a23c-57d830cdc2ba"
      },
      "source": [
        "createdf(data=reprod_hc, x=\"Wanted last child\")"
      ],
      "execution_count": 236,
      "outputs": [
        {
          "output_type": "execute_result",
          "data": {
            "text/html": [
              "<div>\n",
              "<style scoped>\n",
              "    .dataframe tbody tr th:only-of-type {\n",
              "        vertical-align: middle;\n",
              "    }\n",
              "\n",
              "    .dataframe tbody tr th {\n",
              "        vertical-align: top;\n",
              "    }\n",
              "\n",
              "    .dataframe thead th {\n",
              "        text-align: right;\n",
              "    }\n",
              "</style>\n",
              "<table border=\"1\" class=\"dataframe\">\n",
              "  <thead>\n",
              "    <tr style=\"text-align: right;\">\n",
              "      <th></th>\n",
              "      <th>Wanted last child</th>\n",
              "      <th>Frequence</th>\n",
              "    </tr>\n",
              "  </thead>\n",
              "  <tbody>\n",
              "    <tr>\n",
              "      <th>Wanted then</th>\n",
              "      <td>2083</td>\n",
              "      <td>0.242012</td>\n",
              "    </tr>\n",
              "    <tr>\n",
              "      <th>Wanted later</th>\n",
              "      <td>1615</td>\n",
              "      <td>0.187638</td>\n",
              "    </tr>\n",
              "    <tr>\n",
              "      <th>Wanted no more</th>\n",
              "      <td>1307</td>\n",
              "      <td>0.151853</td>\n",
              "    </tr>\n",
              "  </tbody>\n",
              "</table>\n",
              "</div>"
            ],
            "text/plain": [
              "                Wanted last child  Frequence\n",
              "Wanted then                  2083   0.242012\n",
              "Wanted later                 1615   0.187638\n",
              "Wanted no more               1307   0.151853"
            ]
          },
          "metadata": {},
          "execution_count": 236
        }
      ]
    },
    {
      "cell_type": "code",
      "metadata": {
        "id": "k1U4y43lxULu"
      },
      "source": [
        ""
      ],
      "execution_count": 236,
      "outputs": []
    },
    {
      "cell_type": "markdown",
      "metadata": {
        "id": "lFDlp_Q2skP6"
      },
      "source": [
        "## Knowledge of ovulatory cycle and contraceptive methods"
      ]
    },
    {
      "cell_type": "code",
      "metadata": {
        "id": "npATQyq3skP7",
        "colab": {
          "base_uri": "https://localhost:8080/"
        },
        "outputId": "2bfe606b-d61e-4b62-a276-2fbc592ea488"
      },
      "source": [
        "len(reprod_hc)"
      ],
      "execution_count": 237,
      "outputs": [
        {
          "output_type": "execute_result",
          "data": {
            "text/plain": [
              "8607"
            ]
          },
          "metadata": {},
          "execution_count": 237
        }
      ]
    },
    {
      "cell_type": "code",
      "metadata": {
        "id": "KAgIScIPskP8",
        "colab": {
          "base_uri": "https://localhost:8080/",
          "height": 142
        },
        "outputId": "725b3f8f-397f-4a81-d7fc-8e9bc9039d02"
      },
      "source": [
        "createdf(data=reprod_hc, x=\"Knowledge of any method\")"
      ],
      "execution_count": 238,
      "outputs": [
        {
          "output_type": "execute_result",
          "data": {
            "text/html": [
              "<div>\n",
              "<style scoped>\n",
              "    .dataframe tbody tr th:only-of-type {\n",
              "        vertical-align: middle;\n",
              "    }\n",
              "\n",
              "    .dataframe tbody tr th {\n",
              "        vertical-align: top;\n",
              "    }\n",
              "\n",
              "    .dataframe thead th {\n",
              "        text-align: right;\n",
              "    }\n",
              "</style>\n",
              "<table border=\"1\" class=\"dataframe\">\n",
              "  <thead>\n",
              "    <tr style=\"text-align: right;\">\n",
              "      <th></th>\n",
              "      <th>Knowledge of any method</th>\n",
              "      <th>Frequence</th>\n",
              "    </tr>\n",
              "  </thead>\n",
              "  <tbody>\n",
              "    <tr>\n",
              "      <th>Knows modern method</th>\n",
              "      <td>8604</td>\n",
              "      <td>0.999651</td>\n",
              "    </tr>\n",
              "    <tr>\n",
              "      <th>Knows no method</th>\n",
              "      <td>2</td>\n",
              "      <td>0.000232</td>\n",
              "    </tr>\n",
              "    <tr>\n",
              "      <th>Knows only traditional method</th>\n",
              "      <td>1</td>\n",
              "      <td>0.000116</td>\n",
              "    </tr>\n",
              "  </tbody>\n",
              "</table>\n",
              "</div>"
            ],
            "text/plain": [
              "                               Knowledge of any method  Frequence\n",
              "Knows modern method                               8604   0.999651\n",
              "Knows no method                                      2   0.000232\n",
              "Knows only traditional method                        1   0.000116"
            ]
          },
          "metadata": {},
          "execution_count": 238
        }
      ]
    },
    {
      "cell_type": "code",
      "metadata": {
        "id": "EjQ62GZIskP-",
        "colab": {
          "base_uri": "https://localhost:8080/",
          "height": 111
        },
        "outputId": "7a627825-4471-4db8-dd2e-1d5c5d7618f5"
      },
      "source": [
        "createdf(data=reprod_hc, x=\"Using method\")"
      ],
      "execution_count": 239,
      "outputs": [
        {
          "output_type": "execute_result",
          "data": {
            "text/html": [
              "<div>\n",
              "<style scoped>\n",
              "    .dataframe tbody tr th:only-of-type {\n",
              "        vertical-align: middle;\n",
              "    }\n",
              "\n",
              "    .dataframe tbody tr th {\n",
              "        vertical-align: top;\n",
              "    }\n",
              "\n",
              "    .dataframe thead th {\n",
              "        text-align: right;\n",
              "    }\n",
              "</style>\n",
              "<table border=\"1\" class=\"dataframe\">\n",
              "  <thead>\n",
              "    <tr style=\"text-align: right;\">\n",
              "      <th></th>\n",
              "      <th>Using method</th>\n",
              "      <th>Frequence</th>\n",
              "    </tr>\n",
              "  </thead>\n",
              "  <tbody>\n",
              "    <tr>\n",
              "      <th>No</th>\n",
              "      <td>5798</td>\n",
              "      <td>0.673638</td>\n",
              "    </tr>\n",
              "    <tr>\n",
              "      <th>Yes</th>\n",
              "      <td>2809</td>\n",
              "      <td>0.326362</td>\n",
              "    </tr>\n",
              "  </tbody>\n",
              "</table>\n",
              "</div>"
            ],
            "text/plain": [
              "     Using method  Frequence\n",
              "No           5798   0.673638\n",
              "Yes          2809   0.326362"
            ]
          },
          "metadata": {},
          "execution_count": 239
        }
      ]
    },
    {
      "cell_type": "code",
      "metadata": {
        "id": "O3Mn-pY3skP_",
        "colab": {
          "base_uri": "https://localhost:8080/",
          "height": 321
        },
        "outputId": "1156f4e2-4073-4333-87e8-3ee898c438db"
      },
      "source": [
        "print(\"Graphic #11\")\n",
        "sns.boxplot(data=reprod_hc, x= \"Total children ever born\", y= \"Using method\", palette = \"Set2\" )\n",
        "plt.figtext(0.65, 0.0001, \"Source: EMMUS 2016-2017\", fontsize=15)"
      ],
      "execution_count": 240,
      "outputs": [
        {
          "output_type": "stream",
          "name": "stdout",
          "text": [
            "Graphic #11\n"
          ]
        },
        {
          "output_type": "execute_result",
          "data": {
            "text/plain": [
              "Text(0.65, 0.0001, 'Source: EMMUS 2016-2017')"
            ]
          },
          "metadata": {},
          "execution_count": 240
        },
        {
          "output_type": "display_data",
          "data": {
            "image/png": "[encoded data removed]",
            "text/plain": [
              "<Figure size 432x288 with 1 Axes>"
            ]
          },
          "metadata": {
            "needs_background": "light"
          }
        }
      ]
    },
    {
      "cell_type": "code",
      "metadata": {
        "id": "iFEFWIjGskQA",
        "colab": {
          "base_uri": "https://localhost:8080/",
          "height": 111
        },
        "outputId": "14fe1c95-52cf-4f2f-fc86-137e62303e65"
      },
      "source": [
        "createdf(data=reprod_hc, x=\"Knowing ovulatory cycle\")"
      ],
      "execution_count": 241,
      "outputs": [
        {
          "output_type": "execute_result",
          "data": {
            "text/html": [
              "<div>\n",
              "<style scoped>\n",
              "    .dataframe tbody tr th:only-of-type {\n",
              "        vertical-align: middle;\n",
              "    }\n",
              "\n",
              "    .dataframe tbody tr th {\n",
              "        vertical-align: top;\n",
              "    }\n",
              "\n",
              "    .dataframe thead th {\n",
              "        text-align: right;\n",
              "    }\n",
              "</style>\n",
              "<table border=\"1\" class=\"dataframe\">\n",
              "  <thead>\n",
              "    <tr style=\"text-align: right;\">\n",
              "      <th></th>\n",
              "      <th>Knowing ovulatory cycle</th>\n",
              "      <th>Frequence</th>\n",
              "    </tr>\n",
              "  </thead>\n",
              "  <tbody>\n",
              "    <tr>\n",
              "      <th>No</th>\n",
              "      <td>7714</td>\n",
              "      <td>0.896247</td>\n",
              "    </tr>\n",
              "    <tr>\n",
              "      <th>Yes</th>\n",
              "      <td>893</td>\n",
              "      <td>0.103753</td>\n",
              "    </tr>\n",
              "  </tbody>\n",
              "</table>\n",
              "</div>"
            ],
            "text/plain": [
              "     Knowing ovulatory cycle  Frequence\n",
              "No                      7714   0.896247\n",
              "Yes                      893   0.103753"
            ]
          },
          "metadata": {},
          "execution_count": 241
        }
      ]
    },
    {
      "cell_type": "code",
      "metadata": {
        "id": "IsMoyC55skQB",
        "colab": {
          "base_uri": "https://localhost:8080/",
          "height": 321
        },
        "outputId": "3cf9006c-4238-4448-fba5-de9ac2d6eb95"
      },
      "source": [
        "print(\"Graphic #12\")\n",
        "sns.boxplot(data=reprod_hc, x= \"Total children ever born\", y= \"Knowing ovulatory cycle\", palette = \"Set2\" )\n",
        "plt.figtext(0.65, 0.0001, \"Source: EMMUS 2016-2017\", fontsize=15)"
      ],
      "execution_count": 242,
      "outputs": [
        {
          "output_type": "stream",
          "name": "stdout",
          "text": [
            "Graphic #12\n"
          ]
        },
        {
          "output_type": "execute_result",
          "data": {
            "text/plain": [
              "Text(0.65, 0.0001, 'Source: EMMUS 2016-2017')"
            ]
          },
          "metadata": {},
          "execution_count": 242
        },
        {
          "output_type": "display_data",
          "data": {
            "image/png": "[encoded data removed]",
            "text/plain": [
              "<Figure size 432x288 with 1 Axes>"
            ]
          },
          "metadata": {
            "needs_background": "light"
          }
        }
      ]
    },
    {
      "cell_type": "markdown",
      "metadata": {
        "id": "qGILOINAQ-WN"
      },
      "source": [
        "## Early pregnancy"
      ]
    },
    {
      "cell_type": "markdown",
      "metadata": {
        "id": "7H3zyNsodvu1"
      },
      "source": [
        "It consists of young woman having one or more children or being pregnant in the time of the survey."
      ]
    },
    {
      "cell_type": "code",
      "metadata": {
        "id": "cK8OhZsXQw6F",
        "colab": {
          "base_uri": "https://localhost:8080/"
        },
        "outputId": "d70bd831-76f0-4968-dc1c-d711574d327d"
      },
      "source": [
        "print(f\"The number of women grouped in 15-19 years is {len(pop_15_19)}.\")"
      ],
      "execution_count": 243,
      "outputs": [
        {
          "output_type": "stream",
          "name": "stdout",
          "text": [
            "The number of women grouped in 15-19 years is 3307.\n"
          ]
        }
      ]
    },
    {
      "cell_type": "code",
      "metadata": {
        "id": "FSPtorXj1Xst",
        "colab": {
          "base_uri": "https://localhost:8080/",
          "height": 898
        },
        "outputId": "e91c7f45-13e5-46d5-da32-23054ee8398c"
      },
      "source": [
        "reprod_prec = pop_15_19[pop_15_19[\"Early pregnancy\"]==\"Yes\"]\n",
        "createdf(data=pop_15_19, x=\"Early pregnancy\")\n",
        "reprod_prec"
      ],
      "execution_count": 284,
      "outputs": [
        {
          "output_type": "execute_result",
          "data": {
            "text/html": [
              "<div>\n",
              "<style scoped>\n",
              "    .dataframe tbody tr th:only-of-type {\n",
              "        vertical-align: middle;\n",
              "    }\n",
              "\n",
              "    .dataframe tbody tr th {\n",
              "        vertical-align: top;\n",
              "    }\n",
              "\n",
              "    .dataframe thead th {\n",
              "        text-align: right;\n",
              "    }\n",
              "</style>\n",
              "<table border=\"1\" class=\"dataframe\">\n",
              "  <thead>\n",
              "    <tr style=\"text-align: right;\">\n",
              "      <th></th>\n",
              "      <th>Current age</th>\n",
              "      <th>Age in 5-year groups</th>\n",
              "      <th>Region</th>\n",
              "      <th>Place of residence</th>\n",
              "      <th>Highest educational level</th>\n",
              "      <th>Religion</th>\n",
              "      <th>Wealth index combined</th>\n",
              "      <th>Total children ever born</th>\n",
              "      <th>Sons who have died</th>\n",
              "      <th>Daughters who have died</th>\n",
              "      <th>Age at first birth</th>\n",
              "      <th>Currently pregnant</th>\n",
              "      <th>Time since last menstrual period</th>\n",
              "      <th>Knowledge of ovulatory cycle</th>\n",
              "      <th>Number of living children</th>\n",
              "      <th>Knowledge of any method</th>\n",
              "      <th>Ever used anything or tried to delay or avoid getting pregnant</th>\n",
              "      <th>Current contraceptive method</th>\n",
              "      <th>Wanted last child</th>\n",
              "      <th>Currently amenorrheic</th>\n",
              "      <th>Current marital status</th>\n",
              "      <th>Age at first sex</th>\n",
              "      <th>Ever been married or in union</th>\n",
              "      <th>Fertility preference</th>\n",
              "      <th>Ideal number of children</th>\n",
              "      <th>Ideal number of children (grouped)</th>\n",
              "      <th>Unmet need for contraception (definition 3)</th>\n",
              "      <th>Respondent currently working</th>\n",
              "      <th>Total lifetime number of sex partners</th>\n",
              "      <th>Respondent can refuse sex</th>\n",
              "      <th>Having sex</th>\n",
              "      <th>Knowing ovulatory cycle</th>\n",
              "      <th>Using method</th>\n",
              "      <th>Early pregnancy</th>\n",
              "    </tr>\n",
              "  </thead>\n",
              "  <tbody>\n",
              "    <tr>\n",
              "      <th>154</th>\n",
              "      <td>19</td>\n",
              "      <td>15-19</td>\n",
              "      <td>Nippes</td>\n",
              "      <td>Rural</td>\n",
              "      <td>Primary</td>\n",
              "      <td>Protestant</td>\n",
              "      <td>Middle</td>\n",
              "      <td>1.0</td>\n",
              "      <td>0.0</td>\n",
              "      <td>0.0</td>\n",
              "      <td>15.0</td>\n",
              "      <td>No or unsure</td>\n",
              "      <td>Years: 1</td>\n",
              "      <td>After period ended</td>\n",
              "      <td>1.0</td>\n",
              "      <td>Knows modern method</td>\n",
              "      <td>Yes, used in calendar</td>\n",
              "      <td>Injections</td>\n",
              "      <td>Wanted later</td>\n",
              "      <td>No</td>\n",
              "      <td>Married</td>\n",
              "      <td>14</td>\n",
              "      <td>NaN</td>\n",
              "      <td>No more</td>\n",
              "      <td>2.0</td>\n",
              "      <td>2</td>\n",
              "      <td>Using for limiting</td>\n",
              "      <td>No</td>\n",
              "      <td>1</td>\n",
              "      <td>NaN</td>\n",
              "      <td>Yes</td>\n",
              "      <td>No</td>\n",
              "      <td>Yes</td>\n",
              "      <td>Yes</td>\n",
              "    </tr>\n",
              "    <tr>\n",
              "      <th>254</th>\n",
              "      <td>19</td>\n",
              "      <td>15-19</td>\n",
              "      <td>Nord</td>\n",
              "      <td>Rural</td>\n",
              "      <td>Secondary</td>\n",
              "      <td>Protestant</td>\n",
              "      <td>Poorest</td>\n",
              "      <td>1.0</td>\n",
              "      <td>0.0</td>\n",
              "      <td>0.0</td>\n",
              "      <td>18.0</td>\n",
              "      <td>No or unsure</td>\n",
              "      <td>117</td>\n",
              "      <td>At any time</td>\n",
              "      <td>1.0</td>\n",
              "      <td>Knows modern method</td>\n",
              "      <td>Yes, used in calendar</td>\n",
              "      <td>Pill</td>\n",
              "      <td>Wanted later</td>\n",
              "      <td>No</td>\n",
              "      <td>Married</td>\n",
              "      <td>16</td>\n",
              "      <td>NaN</td>\n",
              "      <td>Have another</td>\n",
              "      <td>3.0</td>\n",
              "      <td>3</td>\n",
              "      <td>Using for spacing</td>\n",
              "      <td>Yes</td>\n",
              "      <td>1</td>\n",
              "      <td>Yes</td>\n",
              "      <td>Yes</td>\n",
              "      <td>No</td>\n",
              "      <td>Yes</td>\n",
              "      <td>Yes</td>\n",
              "    </tr>\n",
              "    <tr>\n",
              "      <th>256</th>\n",
              "      <td>19</td>\n",
              "      <td>15-19</td>\n",
              "      <td>Nord</td>\n",
              "      <td>Rural</td>\n",
              "      <td>Primary</td>\n",
              "      <td>Catholic</td>\n",
              "      <td>Poorest</td>\n",
              "      <td>1.0</td>\n",
              "      <td>0.0</td>\n",
              "      <td>0.0</td>\n",
              "      <td>16.0</td>\n",
              "      <td>Yes</td>\n",
              "      <td>303</td>\n",
              "      <td>Middle of the cycle</td>\n",
              "      <td>1.0</td>\n",
              "      <td>Knows modern method</td>\n",
              "      <td>Yes, used outside calendar</td>\n",
              "      <td>Not using</td>\n",
              "      <td>Wanted then</td>\n",
              "      <td>No</td>\n",
              "      <td>Married</td>\n",
              "      <td>16</td>\n",
              "      <td>NaN</td>\n",
              "      <td>Have another</td>\n",
              "      <td>4.0</td>\n",
              "      <td>4</td>\n",
              "      <td>No unmet need</td>\n",
              "      <td>No</td>\n",
              "      <td>1</td>\n",
              "      <td>NaN</td>\n",
              "      <td>Yes</td>\n",
              "      <td>No</td>\n",
              "      <td>No</td>\n",
              "      <td>Yes</td>\n",
              "    </tr>\n",
              "    <tr>\n",
              "      <th>284</th>\n",
              "      <td>18</td>\n",
              "      <td>15-19</td>\n",
              "      <td>Rest-Ouest</td>\n",
              "      <td>Rural</td>\n",
              "      <td>Primary</td>\n",
              "      <td>Protestant</td>\n",
              "      <td>Poorer</td>\n",
              "      <td>1.0</td>\n",
              "      <td>0.0</td>\n",
              "      <td>0.0</td>\n",
              "      <td>16.0</td>\n",
              "      <td>No or unsure</td>\n",
              "      <td>302</td>\n",
              "      <td>After period ended</td>\n",
              "      <td>1.0</td>\n",
              "      <td>Knows modern method</td>\n",
              "      <td>No</td>\n",
              "      <td>Not using</td>\n",
              "      <td>Wanted then</td>\n",
              "      <td>No</td>\n",
              "      <td>Never in union</td>\n",
              "      <td>13</td>\n",
              "      <td>No</td>\n",
              "      <td>Have another</td>\n",
              "      <td>2.0</td>\n",
              "      <td>2</td>\n",
              "      <td>Not married and no sex in last 30 days</td>\n",
              "      <td>Yes</td>\n",
              "      <td>2</td>\n",
              "      <td>NaN</td>\n",
              "      <td>Yes</td>\n",
              "      <td>No</td>\n",
              "      <td>No</td>\n",
              "      <td>Yes</td>\n",
              "    </tr>\n",
              "    <tr>\n",
              "      <th>336</th>\n",
              "      <td>19</td>\n",
              "      <td>15-19</td>\n",
              "      <td>Artibonite</td>\n",
              "      <td>Rural</td>\n",
              "      <td>Primary</td>\n",
              "      <td>Protestant</td>\n",
              "      <td>Poorest</td>\n",
              "      <td>1.0</td>\n",
              "      <td>0.0</td>\n",
              "      <td>0.0</td>\n",
              "      <td>16.0</td>\n",
              "      <td>No or unsure</td>\n",
              "      <td>129</td>\n",
              "      <td>After period ended</td>\n",
              "      <td>1.0</td>\n",
              "      <td>Knows modern method</td>\n",
              "      <td>Yes, used in calendar</td>\n",
              "      <td>Injections</td>\n",
              "      <td>Wanted later</td>\n",
              "      <td>No</td>\n",
              "      <td>Married</td>\n",
              "      <td>13</td>\n",
              "      <td>NaN</td>\n",
              "      <td>Have another</td>\n",
              "      <td>2.0</td>\n",
              "      <td>2</td>\n",
              "      <td>Using for spacing</td>\n",
              "      <td>No</td>\n",
              "      <td>1</td>\n",
              "      <td>Yes</td>\n",
              "      <td>Yes</td>\n",
              "      <td>No</td>\n",
              "      <td>Yes</td>\n",
              "      <td>Yes</td>\n",
              "    </tr>\n",
              "    <tr>\n",
              "      <th>...</th>\n",
              "      <td>...</td>\n",
              "      <td>...</td>\n",
              "      <td>...</td>\n",
              "      <td>...</td>\n",
              "      <td>...</td>\n",
              "      <td>...</td>\n",
              "      <td>...</td>\n",
              "      <td>...</td>\n",
              "      <td>...</td>\n",
              "      <td>...</td>\n",
              "      <td>...</td>\n",
              "      <td>...</td>\n",
              "      <td>...</td>\n",
              "      <td>...</td>\n",
              "      <td>...</td>\n",
              "      <td>...</td>\n",
              "      <td>...</td>\n",
              "      <td>...</td>\n",
              "      <td>...</td>\n",
              "      <td>...</td>\n",
              "      <td>...</td>\n",
              "      <td>...</td>\n",
              "      <td>...</td>\n",
              "      <td>...</td>\n",
              "      <td>...</td>\n",
              "      <td>...</td>\n",
              "      <td>...</td>\n",
              "      <td>...</td>\n",
              "      <td>...</td>\n",
              "      <td>...</td>\n",
              "      <td>...</td>\n",
              "      <td>...</td>\n",
              "      <td>...</td>\n",
              "      <td>...</td>\n",
              "    </tr>\n",
              "    <tr>\n",
              "      <th>15187</th>\n",
              "      <td>18</td>\n",
              "      <td>15-19</td>\n",
              "      <td>Grand'Anse</td>\n",
              "      <td>Rural</td>\n",
              "      <td>Primary</td>\n",
              "      <td>Catholic</td>\n",
              "      <td>Poorest</td>\n",
              "      <td>1.0</td>\n",
              "      <td>0.0</td>\n",
              "      <td>0.0</td>\n",
              "      <td>16.0</td>\n",
              "      <td>No or unsure</td>\n",
              "      <td>Before last birth</td>\n",
              "      <td>After period ended</td>\n",
              "      <td>1.0</td>\n",
              "      <td>Knows modern method</td>\n",
              "      <td>Yes, used outside calendar</td>\n",
              "      <td>Not using</td>\n",
              "      <td>Wanted no more</td>\n",
              "      <td>Yes</td>\n",
              "      <td>Married</td>\n",
              "      <td>15</td>\n",
              "      <td>NaN</td>\n",
              "      <td>Have another</td>\n",
              "      <td>4.0</td>\n",
              "      <td>4</td>\n",
              "      <td>Unmet need for limiting</td>\n",
              "      <td>Yes</td>\n",
              "      <td>2</td>\n",
              "      <td>Yes</td>\n",
              "      <td>Yes</td>\n",
              "      <td>No</td>\n",
              "      <td>No</td>\n",
              "      <td>Yes</td>\n",
              "    </tr>\n",
              "    <tr>\n",
              "      <th>15216</th>\n",
              "      <td>19</td>\n",
              "      <td>15-19</td>\n",
              "      <td>Sud</td>\n",
              "      <td>Rural</td>\n",
              "      <td>Secondary</td>\n",
              "      <td>Protestant</td>\n",
              "      <td>Poorer</td>\n",
              "      <td>1.0</td>\n",
              "      <td>0.0</td>\n",
              "      <td>0.0</td>\n",
              "      <td>18.0</td>\n",
              "      <td>No or unsure</td>\n",
              "      <td>111</td>\n",
              "      <td>During her period</td>\n",
              "      <td>1.0</td>\n",
              "      <td>Knows modern method</td>\n",
              "      <td>No</td>\n",
              "      <td>Not using</td>\n",
              "      <td>Wanted later</td>\n",
              "      <td>No</td>\n",
              "      <td>Never in union</td>\n",
              "      <td>16</td>\n",
              "      <td>No</td>\n",
              "      <td>No more</td>\n",
              "      <td>3.0</td>\n",
              "      <td>3</td>\n",
              "      <td>Not married and no sex in last 30 days</td>\n",
              "      <td>No</td>\n",
              "      <td>1</td>\n",
              "      <td>NaN</td>\n",
              "      <td>Yes</td>\n",
              "      <td>No</td>\n",
              "      <td>No</td>\n",
              "      <td>Yes</td>\n",
              "    </tr>\n",
              "    <tr>\n",
              "      <th>15226</th>\n",
              "      <td>18</td>\n",
              "      <td>15-19</td>\n",
              "      <td>Sud</td>\n",
              "      <td>Rural</td>\n",
              "      <td>Primary</td>\n",
              "      <td>Catholic</td>\n",
              "      <td>Poorer</td>\n",
              "      <td>1.0</td>\n",
              "      <td>0.0</td>\n",
              "      <td>0.0</td>\n",
              "      <td>17.0</td>\n",
              "      <td>No or unsure</td>\n",
              "      <td>203</td>\n",
              "      <td>Middle of the cycle</td>\n",
              "      <td>1.0</td>\n",
              "      <td>Knows modern method</td>\n",
              "      <td>No</td>\n",
              "      <td>Not using</td>\n",
              "      <td>Wanted then</td>\n",
              "      <td>No</td>\n",
              "      <td>Married</td>\n",
              "      <td>14</td>\n",
              "      <td>NaN</td>\n",
              "      <td>Have another</td>\n",
              "      <td>2.0</td>\n",
              "      <td>2</td>\n",
              "      <td>Unmet need for spacing</td>\n",
              "      <td>No</td>\n",
              "      <td>2</td>\n",
              "      <td>Yes</td>\n",
              "      <td>Yes</td>\n",
              "      <td>No</td>\n",
              "      <td>No</td>\n",
              "      <td>Yes</td>\n",
              "    </tr>\n",
              "    <tr>\n",
              "      <th>15262</th>\n",
              "      <td>19</td>\n",
              "      <td>15-19</td>\n",
              "      <td>Nord-Est</td>\n",
              "      <td>Rural</td>\n",
              "      <td>Primary</td>\n",
              "      <td>Catholic</td>\n",
              "      <td>Poorer</td>\n",
              "      <td>2.0</td>\n",
              "      <td>0.0</td>\n",
              "      <td>0.0</td>\n",
              "      <td>17.0</td>\n",
              "      <td>No or unsure</td>\n",
              "      <td>108</td>\n",
              "      <td>After period ended</td>\n",
              "      <td>2.0</td>\n",
              "      <td>Knows modern method</td>\n",
              "      <td>Yes, used in calendar</td>\n",
              "      <td>Injections</td>\n",
              "      <td>Wanted later</td>\n",
              "      <td>No</td>\n",
              "      <td>Married</td>\n",
              "      <td>15</td>\n",
              "      <td>NaN</td>\n",
              "      <td>Have another</td>\n",
              "      <td>4.0</td>\n",
              "      <td>4</td>\n",
              "      <td>Using for spacing</td>\n",
              "      <td>Yes</td>\n",
              "      <td>2</td>\n",
              "      <td>Yes</td>\n",
              "      <td>Yes</td>\n",
              "      <td>No</td>\n",
              "      <td>Yes</td>\n",
              "      <td>Yes</td>\n",
              "    </tr>\n",
              "    <tr>\n",
              "      <th>15441</th>\n",
              "      <td>19</td>\n",
              "      <td>15-19</td>\n",
              "      <td>Nord</td>\n",
              "      <td>Rural</td>\n",
              "      <td>Secondary</td>\n",
              "      <td>Catholic</td>\n",
              "      <td>Middle</td>\n",
              "      <td>1.0</td>\n",
              "      <td>0.0</td>\n",
              "      <td>0.0</td>\n",
              "      <td>18.0</td>\n",
              "      <td>No or unsure</td>\n",
              "      <td>113</td>\n",
              "      <td>After period ended</td>\n",
              "      <td>1.0</td>\n",
              "      <td>Knows modern method</td>\n",
              "      <td>Yes, used outside calendar</td>\n",
              "      <td>Not using</td>\n",
              "      <td>Wanted later</td>\n",
              "      <td>No</td>\n",
              "      <td>Never in union</td>\n",
              "      <td>17</td>\n",
              "      <td>No</td>\n",
              "      <td>Have another</td>\n",
              "      <td>2.0</td>\n",
              "      <td>2</td>\n",
              "      <td>Not married and no sex in last 30 days</td>\n",
              "      <td>No</td>\n",
              "      <td>2</td>\n",
              "      <td>NaN</td>\n",
              "      <td>Yes</td>\n",
              "      <td>No</td>\n",
              "      <td>No</td>\n",
              "      <td>Yes</td>\n",
              "    </tr>\n",
              "  </tbody>\n",
              "</table>\n",
              "<p>282 rows × 34 columns</p>\n",
              "</div>"
            ],
            "text/plain": [
              "       Current age Age in 5-year groups  ... Using method Early pregnancy\n",
              "154             19                15-19  ...          Yes             Yes\n",
              "254             19                15-19  ...          Yes             Yes\n",
              "256             19                15-19  ...           No             Yes\n",
              "284             18                15-19  ...           No             Yes\n",
              "336             19                15-19  ...          Yes             Yes\n",
              "...            ...                  ...  ...          ...             ...\n",
              "15187           18                15-19  ...           No             Yes\n",
              "15216           19                15-19  ...           No             Yes\n",
              "15226           18                15-19  ...           No             Yes\n",
              "15262           19                15-19  ...          Yes             Yes\n",
              "15441           19                15-19  ...           No             Yes\n",
              "\n",
              "[282 rows x 34 columns]"
            ]
          },
          "metadata": {},
          "execution_count": 284
        }
      ]
    },
    {
      "cell_type": "code",
      "metadata": {
        "id": "QG6FE-tKmDTp",
        "colab": {
          "base_uri": "https://localhost:8080/",
          "height": 613
        },
        "outputId": "9b7031b4-8dcc-4bca-dab3-d39b7756fd18"
      },
      "source": [
        "print(\"Graphic #13\")\n",
        "chartrelation(test=True, col1=\"Wealth index combined\", col2=\"Early pregnancy\", data=pop_15_19)"
      ],
      "execution_count": 245,
      "outputs": [
        {
          "output_type": "stream",
          "name": "stdout",
          "text": [
            "Graphic #13\n",
            "Wealth index combined and Early pregnancy are Probably Dependent with a significance level of 5%.\n"
          ]
        },
        {
          "output_type": "execute_result",
          "data": {
            "text/html": [
              "<div>\n",
              "<style scoped>\n",
              "    .dataframe tbody tr th:only-of-type {\n",
              "        vertical-align: middle;\n",
              "    }\n",
              "\n",
              "    .dataframe tbody tr th {\n",
              "        vertical-align: top;\n",
              "    }\n",
              "\n",
              "    .dataframe thead th {\n",
              "        text-align: right;\n",
              "    }\n",
              "</style>\n",
              "<table border=\"1\" class=\"dataframe\">\n",
              "  <thead>\n",
              "    <tr style=\"text-align: right;\">\n",
              "      <th>Early pregnancy</th>\n",
              "      <th>No</th>\n",
              "      <th>Yes</th>\n",
              "    </tr>\n",
              "    <tr>\n",
              "      <th>Wealth index combined</th>\n",
              "      <th></th>\n",
              "      <th></th>\n",
              "    </tr>\n",
              "  </thead>\n",
              "  <tbody>\n",
              "    <tr>\n",
              "      <th>Middle</th>\n",
              "      <td>607</td>\n",
              "      <td>60</td>\n",
              "    </tr>\n",
              "    <tr>\n",
              "      <th>Poorer</th>\n",
              "      <td>658</td>\n",
              "      <td>67</td>\n",
              "    </tr>\n",
              "    <tr>\n",
              "      <th>Poorest</th>\n",
              "      <td>585</td>\n",
              "      <td>96</td>\n",
              "    </tr>\n",
              "    <tr>\n",
              "      <th>Richer</th>\n",
              "      <td>618</td>\n",
              "      <td>40</td>\n",
              "    </tr>\n",
              "    <tr>\n",
              "      <th>Richest</th>\n",
              "      <td>557</td>\n",
              "      <td>19</td>\n",
              "    </tr>\n",
              "  </tbody>\n",
              "</table>\n",
              "</div>"
            ],
            "text/plain": [
              "Early pregnancy         No  Yes\n",
              "Wealth index combined          \n",
              "Middle                 607   60\n",
              "Poorer                 658   67\n",
              "Poorest                585   96\n",
              "Richer                 618   40\n",
              "Richest                557   19"
            ]
          },
          "metadata": {},
          "execution_count": 245
        },
        {
          "output_type": "display_data",
          "data": {
            "image/png": "[encoded data removed]",
            "text/plain": [
              "<Figure size 864x360 with 2 Axes>"
            ]
          },
          "metadata": {
            "needs_background": "light"
          }
        }
      ]
    },
    {
      "cell_type": "code",
      "metadata": {
        "id": "7I33HKIk5A22",
        "colab": {
          "base_uri": "https://localhost:8080/",
          "height": 390
        },
        "outputId": "f56eb37e-2ea3-4b45-9048-099bcf7c94d3"
      },
      "source": [
        "createdf(data=pop_15_19, x=\"Region\")"
      ],
      "execution_count": 246,
      "outputs": [
        {
          "output_type": "execute_result",
          "data": {
            "text/html": [
              "<div>\n",
              "<style scoped>\n",
              "    .dataframe tbody tr th:only-of-type {\n",
              "        vertical-align: middle;\n",
              "    }\n",
              "\n",
              "    .dataframe tbody tr th {\n",
              "        vertical-align: top;\n",
              "    }\n",
              "\n",
              "    .dataframe thead th {\n",
              "        text-align: right;\n",
              "    }\n",
              "</style>\n",
              "<table border=\"1\" class=\"dataframe\">\n",
              "  <thead>\n",
              "    <tr style=\"text-align: right;\">\n",
              "      <th></th>\n",
              "      <th>Region</th>\n",
              "      <th>Frequence</th>\n",
              "    </tr>\n",
              "  </thead>\n",
              "  <tbody>\n",
              "    <tr>\n",
              "      <th>Artibonite</th>\n",
              "      <td>392</td>\n",
              "      <td>0.118536</td>\n",
              "    </tr>\n",
              "    <tr>\n",
              "      <th>Aire Metropolitaine</th>\n",
              "      <td>376</td>\n",
              "      <td>0.113698</td>\n",
              "    </tr>\n",
              "    <tr>\n",
              "      <th>Nord-Ouest</th>\n",
              "      <td>336</td>\n",
              "      <td>0.101603</td>\n",
              "    </tr>\n",
              "    <tr>\n",
              "      <th>Rest-Ouest</th>\n",
              "      <td>320</td>\n",
              "      <td>0.096764</td>\n",
              "    </tr>\n",
              "    <tr>\n",
              "      <th>Nord</th>\n",
              "      <td>320</td>\n",
              "      <td>0.096764</td>\n",
              "    </tr>\n",
              "    <tr>\n",
              "      <th>Nord-Est</th>\n",
              "      <td>308</td>\n",
              "      <td>0.093136</td>\n",
              "    </tr>\n",
              "    <tr>\n",
              "      <th>Sud</th>\n",
              "      <td>292</td>\n",
              "      <td>0.088298</td>\n",
              "    </tr>\n",
              "    <tr>\n",
              "      <th>Centre</th>\n",
              "      <td>269</td>\n",
              "      <td>0.081343</td>\n",
              "    </tr>\n",
              "    <tr>\n",
              "      <th>Sud-Est</th>\n",
              "      <td>265</td>\n",
              "      <td>0.080133</td>\n",
              "    </tr>\n",
              "    <tr>\n",
              "      <th>Grand'Anse</th>\n",
              "      <td>233</td>\n",
              "      <td>0.070457</td>\n",
              "    </tr>\n",
              "    <tr>\n",
              "      <th>Nippes</th>\n",
              "      <td>196</td>\n",
              "      <td>0.059268</td>\n",
              "    </tr>\n",
              "  </tbody>\n",
              "</table>\n",
              "</div>"
            ],
            "text/plain": [
              "                     Region  Frequence\n",
              "Artibonite              392   0.118536\n",
              "Aire Metropolitaine     376   0.113698\n",
              "Nord-Ouest              336   0.101603\n",
              "Rest-Ouest              320   0.096764\n",
              "Nord                    320   0.096764\n",
              "Nord-Est                308   0.093136\n",
              "Sud                     292   0.088298\n",
              "Centre                  269   0.081343\n",
              "Sud-Est                 265   0.080133\n",
              "Grand'Anse              233   0.070457\n",
              "Nippes                  196   0.059268"
            ]
          },
          "metadata": {},
          "execution_count": 246
        }
      ]
    },
    {
      "cell_type": "code",
      "metadata": {
        "id": "QpoyyMI4ap-7",
        "colab": {
          "base_uri": "https://localhost:8080/",
          "height": 513
        },
        "outputId": "fd776c3a-d419-4c62-b636-65346f4ab70a"
      },
      "source": [
        "print(\"Graphic #14\")\n",
        "chartrelation(test=True, col1=\"Place of residence\", col2=\"Early pregnancy\", data=pop_15_19)"
      ],
      "execution_count": 247,
      "outputs": [
        {
          "output_type": "stream",
          "name": "stdout",
          "text": [
            "Graphic #14\n",
            "Place of residence and Early pregnancy are Probably Dependent with a significance level of 5%.\n"
          ]
        },
        {
          "output_type": "execute_result",
          "data": {
            "text/html": [
              "<div>\n",
              "<style scoped>\n",
              "    .dataframe tbody tr th:only-of-type {\n",
              "        vertical-align: middle;\n",
              "    }\n",
              "\n",
              "    .dataframe tbody tr th {\n",
              "        vertical-align: top;\n",
              "    }\n",
              "\n",
              "    .dataframe thead th {\n",
              "        text-align: right;\n",
              "    }\n",
              "</style>\n",
              "<table border=\"1\" class=\"dataframe\">\n",
              "  <thead>\n",
              "    <tr style=\"text-align: right;\">\n",
              "      <th>Early pregnancy</th>\n",
              "      <th>No</th>\n",
              "      <th>Yes</th>\n",
              "    </tr>\n",
              "    <tr>\n",
              "      <th>Place of residence</th>\n",
              "      <th></th>\n",
              "      <th></th>\n",
              "    </tr>\n",
              "  </thead>\n",
              "  <tbody>\n",
              "    <tr>\n",
              "      <th>Rural</th>\n",
              "      <td>1852</td>\n",
              "      <td>202</td>\n",
              "    </tr>\n",
              "    <tr>\n",
              "      <th>Urban</th>\n",
              "      <td>1173</td>\n",
              "      <td>80</td>\n",
              "    </tr>\n",
              "  </tbody>\n",
              "</table>\n",
              "</div>"
            ],
            "text/plain": [
              "Early pregnancy       No  Yes\n",
              "Place of residence           \n",
              "Rural               1852  202\n",
              "Urban               1173   80"
            ]
          },
          "metadata": {},
          "execution_count": 247
        },
        {
          "output_type": "display_data",
          "data": {
            "image/png": "[encoded data removed]",
            "text/plain": [
              "<Figure size 864x360 with 2 Axes>"
            ]
          },
          "metadata": {
            "needs_background": "light"
          }
        }
      ]
    },
    {
      "cell_type": "code",
      "metadata": {
        "id": "oGTNocAVuD2j",
        "colab": {
          "base_uri": "https://localhost:8080/",
          "height": 611
        },
        "outputId": "4e6a7e6b-b50b-43be-afbd-c9dc47249ebc"
      },
      "source": [
        "print(\"Graphic #15\")\n",
        "chartrelation(test=True, col1=\"Highest educational level\" ,col2=\"Early pregnancy\", data=pop_15_19)"
      ],
      "execution_count": 248,
      "outputs": [
        {
          "output_type": "stream",
          "name": "stdout",
          "text": [
            "Graphic #15\n",
            "Highest educational level and Early pregnancy are Probably Dependent with a significance level of 5%.\n"
          ]
        },
        {
          "output_type": "execute_result",
          "data": {
            "text/html": [
              "<div>\n",
              "<style scoped>\n",
              "    .dataframe tbody tr th:only-of-type {\n",
              "        vertical-align: middle;\n",
              "    }\n",
              "\n",
              "    .dataframe tbody tr th {\n",
              "        vertical-align: top;\n",
              "    }\n",
              "\n",
              "    .dataframe thead th {\n",
              "        text-align: right;\n",
              "    }\n",
              "</style>\n",
              "<table border=\"1\" class=\"dataframe\">\n",
              "  <thead>\n",
              "    <tr style=\"text-align: right;\">\n",
              "      <th>Early pregnancy</th>\n",
              "      <th>No</th>\n",
              "      <th>Yes</th>\n",
              "    </tr>\n",
              "    <tr>\n",
              "      <th>Highest educational level</th>\n",
              "      <th></th>\n",
              "      <th></th>\n",
              "    </tr>\n",
              "  </thead>\n",
              "  <tbody>\n",
              "    <tr>\n",
              "      <th>Higher</th>\n",
              "      <td>16</td>\n",
              "      <td>0</td>\n",
              "    </tr>\n",
              "    <tr>\n",
              "      <th>No education</th>\n",
              "      <td>43</td>\n",
              "      <td>15</td>\n",
              "    </tr>\n",
              "    <tr>\n",
              "      <th>Primary</th>\n",
              "      <td>965</td>\n",
              "      <td>162</td>\n",
              "    </tr>\n",
              "    <tr>\n",
              "      <th>Secondary</th>\n",
              "      <td>2001</td>\n",
              "      <td>105</td>\n",
              "    </tr>\n",
              "  </tbody>\n",
              "</table>\n",
              "</div>"
            ],
            "text/plain": [
              "Early pregnancy              No  Yes\n",
              "Highest educational level           \n",
              "Higher                       16    0\n",
              "No education                 43   15\n",
              "Primary                     965  162\n",
              "Secondary                  2001  105"
            ]
          },
          "metadata": {},
          "execution_count": 248
        },
        {
          "output_type": "display_data",
          "data": {
            "image/png": "[encoded data removed]",
            "text/plain": [
              "<Figure size 864x360 with 2 Axes>"
            ]
          },
          "metadata": {
            "needs_background": "light"
          }
        }
      ]
    },
    {
      "cell_type": "code",
      "metadata": {
        "id": "GAUxhvu4vGFL",
        "colab": {
          "base_uri": "https://localhost:8080/",
          "height": 297
        },
        "outputId": "cf4688e5-a37c-4394-d734-462a4faed162"
      },
      "source": [
        "reprod_sex = reprod_hc[reprod_hc[\"Having sex\"]==\"Yes\"]\n",
        "reprod_sex[\"Mean age sex\"] = reprod_sex[\"Age at first sex\"].apply(lambda x: int(x))\n",
        "reprod_sex = reprod_sex[reprod_sex[\"Mean age sex\"]<20]\n",
        "c = reprod_sex.groupby([\"Age in 5-year groups\"]).agg({\"Mean age sex\": 'mean'})\n",
        "c"
      ],
      "execution_count": 249,
      "outputs": [
        {
          "output_type": "execute_result",
          "data": {
            "text/html": [
              "<div>\n",
              "<style scoped>\n",
              "    .dataframe tbody tr th:only-of-type {\n",
              "        vertical-align: middle;\n",
              "    }\n",
              "\n",
              "    .dataframe tbody tr th {\n",
              "        vertical-align: top;\n",
              "    }\n",
              "\n",
              "    .dataframe thead th {\n",
              "        text-align: right;\n",
              "    }\n",
              "</style>\n",
              "<table border=\"1\" class=\"dataframe\">\n",
              "  <thead>\n",
              "    <tr style=\"text-align: right;\">\n",
              "      <th></th>\n",
              "      <th>Mean age sex</th>\n",
              "    </tr>\n",
              "    <tr>\n",
              "      <th>Age in 5-year groups</th>\n",
              "      <th></th>\n",
              "    </tr>\n",
              "  </thead>\n",
              "  <tbody>\n",
              "    <tr>\n",
              "      <th>15-19</th>\n",
              "      <td>14.379433</td>\n",
              "    </tr>\n",
              "    <tr>\n",
              "      <th>20-24</th>\n",
              "      <td>15.775614</td>\n",
              "    </tr>\n",
              "    <tr>\n",
              "      <th>25-29</th>\n",
              "      <td>16.029971</td>\n",
              "    </tr>\n",
              "    <tr>\n",
              "      <th>30-34</th>\n",
              "      <td>16.117692</td>\n",
              "    </tr>\n",
              "    <tr>\n",
              "      <th>35-39</th>\n",
              "      <td>16.028053</td>\n",
              "    </tr>\n",
              "    <tr>\n",
              "      <th>40-44</th>\n",
              "      <td>16.132984</td>\n",
              "    </tr>\n",
              "    <tr>\n",
              "      <th>45-49</th>\n",
              "      <td>16.198857</td>\n",
              "    </tr>\n",
              "  </tbody>\n",
              "</table>\n",
              "</div>"
            ],
            "text/plain": [
              "                      Mean age sex\n",
              "Age in 5-year groups              \n",
              "15-19                    14.379433\n",
              "20-24                    15.775614\n",
              "25-29                    16.029971\n",
              "30-34                    16.117692\n",
              "35-39                    16.028053\n",
              "40-44                    16.132984\n",
              "45-49                    16.198857"
            ]
          },
          "metadata": {},
          "execution_count": 249
        }
      ]
    },
    {
      "cell_type": "code",
      "metadata": {
        "id": "ggc6XX8KskQi",
        "colab": {
          "base_uri": "https://localhost:8080/",
          "height": 321
        },
        "outputId": "310c7eba-8c74-4e32-8300-c7208ab03558"
      },
      "source": [
        "print(\"Graphic #16\")\n",
        "ax = sns.pointplot(data = c.reset_index(), x=\"Age in 5-year groups\", y=\"Mean age sex\", kind= \"point\", palette=\"Set2\", figsize=(10,5))\n",
        "plt.figtext(0.65, 0.0001, \"Source: EMMUS 2016-2017\", fontsize=15)"
      ],
      "execution_count": 250,
      "outputs": [
        {
          "output_type": "stream",
          "name": "stdout",
          "text": [
            "Graphic #16\n"
          ]
        },
        {
          "output_type": "execute_result",
          "data": {
            "text/plain": [
              "Text(0.65, 0.0001, 'Source: EMMUS 2016-2017')"
            ]
          },
          "metadata": {},
          "execution_count": 250
        },
        {
          "output_type": "display_data",
          "data": {
            "image/png": "[encoded data removed]",
            "text/plain": [
              "<Figure size 432x288 with 1 Axes>"
            ]
          },
          "metadata": {
            "needs_background": "light"
          }
        }
      ]
    },
    {
      "cell_type": "code",
      "metadata": {
        "colab": {
          "base_uri": "https://localhost:8080/",
          "height": 266
        },
        "id": "ZTB0BVnKFA6w",
        "outputId": "83437acd-8bb9-4baf-fab5-d076320ddd7c"
      },
      "source": [
        "reprod_prec.groupby([\"Place of residence\", \"Highest educational level\"])[\"Early pregnancy\"].count().to_frame()"
      ],
      "execution_count": 288,
      "outputs": [
        {
          "output_type": "execute_result",
          "data": {
            "text/html": [
              "<div>\n",
              "<style scoped>\n",
              "    .dataframe tbody tr th:only-of-type {\n",
              "        vertical-align: middle;\n",
              "    }\n",
              "\n",
              "    .dataframe tbody tr th {\n",
              "        vertical-align: top;\n",
              "    }\n",
              "\n",
              "    .dataframe thead th {\n",
              "        text-align: right;\n",
              "    }\n",
              "</style>\n",
              "<table border=\"1\" class=\"dataframe\">\n",
              "  <thead>\n",
              "    <tr style=\"text-align: right;\">\n",
              "      <th></th>\n",
              "      <th></th>\n",
              "      <th>Early pregnancy</th>\n",
              "    </tr>\n",
              "    <tr>\n",
              "      <th>Place of residence</th>\n",
              "      <th>Highest educational level</th>\n",
              "      <th></th>\n",
              "    </tr>\n",
              "  </thead>\n",
              "  <tbody>\n",
              "    <tr>\n",
              "      <th rowspan=\"3\" valign=\"top\">Rural</th>\n",
              "      <th>No education</th>\n",
              "      <td>13</td>\n",
              "    </tr>\n",
              "    <tr>\n",
              "      <th>Primary</th>\n",
              "      <td>125</td>\n",
              "    </tr>\n",
              "    <tr>\n",
              "      <th>Secondary</th>\n",
              "      <td>64</td>\n",
              "    </tr>\n",
              "    <tr>\n",
              "      <th rowspan=\"3\" valign=\"top\">Urban</th>\n",
              "      <th>No education</th>\n",
              "      <td>2</td>\n",
              "    </tr>\n",
              "    <tr>\n",
              "      <th>Primary</th>\n",
              "      <td>37</td>\n",
              "    </tr>\n",
              "    <tr>\n",
              "      <th>Secondary</th>\n",
              "      <td>41</td>\n",
              "    </tr>\n",
              "  </tbody>\n",
              "</table>\n",
              "</div>"
            ],
            "text/plain": [
              "                                              Early pregnancy\n",
              "Place of residence Highest educational level                 \n",
              "Rural              No education                            13\n",
              "                   Primary                                125\n",
              "                   Secondary                               64\n",
              "Urban              No education                             2\n",
              "                   Primary                                 37\n",
              "                   Secondary                               41"
            ]
          },
          "metadata": {},
          "execution_count": 288
        }
      ]
    },
    {
      "cell_type": "code",
      "metadata": {
        "colab": {
          "base_uri": "https://localhost:8080/",
          "height": 390
        },
        "id": "CHdOs5R9IQsR",
        "outputId": "92c3d5f3-3e2f-4d6f-b1dd-4e96b8c484b6"
      },
      "source": [
        "reprod_prec.groupby([\"Place of residence\", \"Wealth index combined\"])[\"Early pregnancy\"].count().to_frame()"
      ],
      "execution_count": 289,
      "outputs": [
        {
          "output_type": "execute_result",
          "data": {
            "text/html": [
              "<div>\n",
              "<style scoped>\n",
              "    .dataframe tbody tr th:only-of-type {\n",
              "        vertical-align: middle;\n",
              "    }\n",
              "\n",
              "    .dataframe tbody tr th {\n",
              "        vertical-align: top;\n",
              "    }\n",
              "\n",
              "    .dataframe thead th {\n",
              "        text-align: right;\n",
              "    }\n",
              "</style>\n",
              "<table border=\"1\" class=\"dataframe\">\n",
              "  <thead>\n",
              "    <tr style=\"text-align: right;\">\n",
              "      <th></th>\n",
              "      <th></th>\n",
              "      <th>Early pregnancy</th>\n",
              "    </tr>\n",
              "    <tr>\n",
              "      <th>Place of residence</th>\n",
              "      <th>Wealth index combined</th>\n",
              "      <th></th>\n",
              "    </tr>\n",
              "  </thead>\n",
              "  <tbody>\n",
              "    <tr>\n",
              "      <th rowspan=\"5\" valign=\"top\">Rural</th>\n",
              "      <th>Middle</th>\n",
              "      <td>31</td>\n",
              "    </tr>\n",
              "    <tr>\n",
              "      <th>Poorer</th>\n",
              "      <td>60</td>\n",
              "    </tr>\n",
              "    <tr>\n",
              "      <th>Poorest</th>\n",
              "      <td>92</td>\n",
              "    </tr>\n",
              "    <tr>\n",
              "      <th>Richer</th>\n",
              "      <td>14</td>\n",
              "    </tr>\n",
              "    <tr>\n",
              "      <th>Richest</th>\n",
              "      <td>5</td>\n",
              "    </tr>\n",
              "    <tr>\n",
              "      <th rowspan=\"5\" valign=\"top\">Urban</th>\n",
              "      <th>Middle</th>\n",
              "      <td>29</td>\n",
              "    </tr>\n",
              "    <tr>\n",
              "      <th>Poorer</th>\n",
              "      <td>7</td>\n",
              "    </tr>\n",
              "    <tr>\n",
              "      <th>Poorest</th>\n",
              "      <td>4</td>\n",
              "    </tr>\n",
              "    <tr>\n",
              "      <th>Richer</th>\n",
              "      <td>26</td>\n",
              "    </tr>\n",
              "    <tr>\n",
              "      <th>Richest</th>\n",
              "      <td>14</td>\n",
              "    </tr>\n",
              "  </tbody>\n",
              "</table>\n",
              "</div>"
            ],
            "text/plain": [
              "                                          Early pregnancy\n",
              "Place of residence Wealth index combined                 \n",
              "Rural              Middle                              31\n",
              "                   Poorer                              60\n",
              "                   Poorest                             92\n",
              "                   Richer                              14\n",
              "                   Richest                              5\n",
              "Urban              Middle                              29\n",
              "                   Poorer                               7\n",
              "                   Poorest                              4\n",
              "                   Richer                              26\n",
              "                   Richest                             14"
            ]
          },
          "metadata": {},
          "execution_count": 289
        }
      ]
    },
    {
      "cell_type": "code",
      "metadata": {
        "colab": {
          "base_uri": "https://localhost:8080/",
          "height": 204
        },
        "id": "aVQgw0LiJLv3",
        "outputId": "95c7e17f-035d-4d20-f807-db32971dc206"
      },
      "source": [
        "reprod_prec.groupby([\"Having sex\", \"Knowing ovulatory cycle\",\t\"Using method\"])[\"Early pregnancy\"].count().to_frame()"
      ],
      "execution_count": 292,
      "outputs": [
        {
          "output_type": "execute_result",
          "data": {
            "text/html": [
              "<div>\n",
              "<style scoped>\n",
              "    .dataframe tbody tr th:only-of-type {\n",
              "        vertical-align: middle;\n",
              "    }\n",
              "\n",
              "    .dataframe tbody tr th {\n",
              "        vertical-align: top;\n",
              "    }\n",
              "\n",
              "    .dataframe thead th {\n",
              "        text-align: right;\n",
              "    }\n",
              "</style>\n",
              "<table border=\"1\" class=\"dataframe\">\n",
              "  <thead>\n",
              "    <tr style=\"text-align: right;\">\n",
              "      <th></th>\n",
              "      <th></th>\n",
              "      <th></th>\n",
              "      <th>Early pregnancy</th>\n",
              "    </tr>\n",
              "    <tr>\n",
              "      <th>Having sex</th>\n",
              "      <th>Knowing ovulatory cycle</th>\n",
              "      <th>Using method</th>\n",
              "      <th></th>\n",
              "    </tr>\n",
              "  </thead>\n",
              "  <tbody>\n",
              "    <tr>\n",
              "      <th rowspan=\"4\" valign=\"top\">Yes</th>\n",
              "      <th rowspan=\"2\" valign=\"top\">No</th>\n",
              "      <th>No</th>\n",
              "      <td>182</td>\n",
              "    </tr>\n",
              "    <tr>\n",
              "      <th>Yes</th>\n",
              "      <td>62</td>\n",
              "    </tr>\n",
              "    <tr>\n",
              "      <th rowspan=\"2\" valign=\"top\">Yes</th>\n",
              "      <th>No</th>\n",
              "      <td>29</td>\n",
              "    </tr>\n",
              "    <tr>\n",
              "      <th>Yes</th>\n",
              "      <td>9</td>\n",
              "    </tr>\n",
              "  </tbody>\n",
              "</table>\n",
              "</div>"
            ],
            "text/plain": [
              "                                                 Early pregnancy\n",
              "Having sex Knowing ovulatory cycle Using method                 \n",
              "Yes        No                      No                        182\n",
              "                                   Yes                        62\n",
              "           Yes                     No                         29\n",
              "                                   Yes                         9"
            ]
          },
          "metadata": {},
          "execution_count": 292
        }
      ]
    },
    {
      "cell_type": "markdown",
      "metadata": {
        "id": "eRNoGo4BzrJx"
      },
      "source": [
        "## Menopausal women"
      ]
    },
    {
      "cell_type": "code",
      "metadata": {
        "colab": {
          "base_uri": "https://localhost:8080/"
        },
        "id": "EFFjvpDBzxsr",
        "outputId": "de11b5b3-20a8-4759-eeb1-9494e8dc662c"
      },
      "source": [
        "all = len(reprod)\n",
        "mnopoz = len(menopause)\n",
        "freq = round((mnopoz/all)*100, 2)\n",
        "print(f\"The number of women in menopause are {mnopoz}.\")\n",
        "print(f\"They represent {freq}% of the total respondents.\")"
      ],
      "execution_count": 251,
      "outputs": [
        {
          "output_type": "stream",
          "name": "stdout",
          "text": [
            "The number of women in menopause are 1144.\n",
            "They represent 7.37% of the total respondents.\n"
          ]
        }
      ]
    },
    {
      "cell_type": "code",
      "metadata": {
        "id": "r1BvkLZ21B2P",
        "colab": {
          "base_uri": "https://localhost:8080/"
        },
        "outputId": "d3690bb0-ae98-4425-c5ee-4bccb3dba7d0"
      },
      "source": [
        "menopause[\"Menopause\"] = \"Yes\""
      ],
      "execution_count": 252,
      "outputs": [
        {
          "output_type": "stream",
          "name": "stderr",
          "text": [
            "/usr/local/lib/python3.7/dist-packages/ipykernel_launcher.py:1: SettingWithCopyWarning: \n",
            "A value is trying to be set on a copy of a slice from a DataFrame.\n",
            "Try using .loc[row_indexer,col_indexer] = value instead\n",
            "\n",
            "See the caveats in the documentation: https://pandas.pydata.org/pandas-docs/stable/user_guide/indexing.html#returning-a-view-versus-a-copy\n",
            "  \"\"\"Entry point for launching an IPython kernel.\n"
          ]
        }
      ]
    },
    {
      "cell_type": "code",
      "metadata": {
        "colab": {
          "base_uri": "https://localhost:8080/"
        },
        "id": "SqN0xMMTCdt2",
        "outputId": "8a7e4fdb-a955-4bc2-e47f-31de6ba75d99"
      },
      "source": [
        "Age_mean = menopause[\"Current age\"].mean()\n",
        "print(f\"The mean age at menopause is {round(Age_mean)} years.\")"
      ],
      "execution_count": 253,
      "outputs": [
        {
          "output_type": "stream",
          "name": "stdout",
          "text": [
            "The mean age at menopause is 37 years.\n"
          ]
        }
      ]
    },
    {
      "cell_type": "code",
      "metadata": {
        "colab": {
          "base_uri": "https://localhost:8080/",
          "height": 502
        },
        "id": "EWsvsW2SE3gv",
        "outputId": "0f4ba7a1-ded7-4974-c221-8d7388e8f03c"
      },
      "source": [
        "print(\"Graphic #17\")\n",
        "numplot(data=menopause, col1 =\"Total children ever born\", col2=\"Highest educational level\", kde=True, test=True)"
      ],
      "execution_count": 254,
      "outputs": [
        {
          "output_type": "stream",
          "name": "stdout",
          "text": [
            "Graphic #17\n",
            "The corresponding p-value is 0.0. The p-value is less than 0.05, we reject the null hypothesis. \n",
            "Now we have sufficient evidence to say that this data has skewness and kurtosis which is different \n",
            "from a normal distribution.\n"
          ]
        },
        {
          "output_type": "display_data",
          "data": {
            "image/png": "[encoded data removed]",
            "text/plain": [
              "<Figure size 1440x432 with 2 Axes>"
            ]
          },
          "metadata": {
            "needs_background": "light"
          }
        }
      ]
    },
    {
      "cell_type": "code",
      "metadata": {
        "colab": {
          "base_uri": "https://localhost:8080/"
        },
        "id": "0ZRv9rAuJpA4",
        "outputId": "8085f4cb-364f-499d-c524-090316041550"
      },
      "source": [
        "f = menopause[\"Total children ever born\"].mean()\n",
        "print(f\"The mean number of children by womwn in menopause is {round(f, 2)}.\")"
      ],
      "execution_count": 255,
      "outputs": [
        {
          "output_type": "stream",
          "name": "stdout",
          "text": [
            "The mean number of children by womwn in menopause is 3.91.\n"
          ]
        }
      ]
    },
    {
      "cell_type": "code",
      "metadata": {
        "colab": {
          "base_uri": "https://localhost:8080/",
          "height": 522
        },
        "id": "iHgbCxliFeSw",
        "outputId": "d029d42e-42dd-407c-a057-e858b9e8306e"
      },
      "source": [
        "print(\"Graphic #18\")\n",
        "meanfilter(data = menopause, xfilter='Wealth index combined')"
      ],
      "execution_count": 256,
      "outputs": [
        {
          "output_type": "stream",
          "name": "stdout",
          "text": [
            "Graphic #18\n"
          ]
        },
        {
          "output_type": "execute_result",
          "data": {
            "text/html": [
              "<div>\n",
              "<style scoped>\n",
              "    .dataframe tbody tr th:only-of-type {\n",
              "        vertical-align: middle;\n",
              "    }\n",
              "\n",
              "    .dataframe tbody tr th {\n",
              "        vertical-align: top;\n",
              "    }\n",
              "\n",
              "    .dataframe thead th {\n",
              "        text-align: right;\n",
              "    }\n",
              "</style>\n",
              "<table border=\"1\" class=\"dataframe\">\n",
              "  <thead>\n",
              "    <tr style=\"text-align: right;\">\n",
              "      <th></th>\n",
              "      <th>Mean number of children</th>\n",
              "      <th>Ideal mean number of children</th>\n",
              "    </tr>\n",
              "    <tr>\n",
              "      <th>Wealth index combined</th>\n",
              "      <th></th>\n",
              "      <th></th>\n",
              "    </tr>\n",
              "  </thead>\n",
              "  <tbody>\n",
              "    <tr>\n",
              "      <th>Richest</th>\n",
              "      <td>2.718310</td>\n",
              "      <td>3.246479</td>\n",
              "    </tr>\n",
              "    <tr>\n",
              "      <th>Richer</th>\n",
              "      <td>3.079096</td>\n",
              "      <td>2.870056</td>\n",
              "    </tr>\n",
              "    <tr>\n",
              "      <th>Middle</th>\n",
              "      <td>3.544000</td>\n",
              "      <td>3.000000</td>\n",
              "    </tr>\n",
              "    <tr>\n",
              "      <th>Poorer</th>\n",
              "      <td>4.443548</td>\n",
              "      <td>3.326613</td>\n",
              "    </tr>\n",
              "    <tr>\n",
              "      <th>Poorest</th>\n",
              "      <td>4.764526</td>\n",
              "      <td>3.437309</td>\n",
              "    </tr>\n",
              "  </tbody>\n",
              "</table>\n",
              "</div>"
            ],
            "text/plain": [
              "                       Mean number of children  Ideal mean number of children\n",
              "Wealth index combined                                                        \n",
              "Richest                               2.718310                       3.246479\n",
              "Richer                                3.079096                       2.870056\n",
              "Middle                                3.544000                       3.000000\n",
              "Poorer                                4.443548                       3.326613\n",
              "Poorest                               4.764526                       3.437309"
            ]
          },
          "metadata": {},
          "execution_count": 256
        },
        {
          "output_type": "display_data",
          "data": {
            "image/png": "[encoded data removed]",
            "text/plain": [
              "<Figure size 432x288 with 1 Axes>"
            ]
          },
          "metadata": {
            "needs_background": "light"
          }
        }
      ]
    },
    {
      "cell_type": "code",
      "metadata": {
        "colab": {
          "base_uri": "https://localhost:8080/",
          "height": 298
        },
        "id": "GPuGhPahNPZR",
        "outputId": "b53b4bc1-b76a-466c-c470-d51d1a03d1b0"
      },
      "source": [
        "print(\"Graphic #19\")\n",
        "ax = sns.violinplot(x=\"Place of residence\", y=\"Total children ever born\", data=menopause)"
      ],
      "execution_count": 257,
      "outputs": [
        {
          "output_type": "stream",
          "name": "stdout",
          "text": [
            "Graphic #19\n"
          ]
        },
        {
          "output_type": "display_data",
          "data": {
            "image/png": "[encoded data removed]",
            "text/plain": [
              "<Figure size 432x288 with 1 Axes>"
            ]
          },
          "metadata": {
            "needs_background": "light"
          }
        }
      ]
    },
    {
      "cell_type": "markdown",
      "metadata": {
        "id": "bjMgltAmXBrQ"
      },
      "source": [
        "# **Model**"
      ]
    },
    {
      "cell_type": "markdown",
      "metadata": {
        "id": "ci0AjrCKgcMY"
      },
      "source": [
        "## Predictive model on the susceptibility to get pregnant in 15-19 age group."
      ]
    },
    {
      "cell_type": "markdown",
      "metadata": {
        "id": "VCCIqRrIgP4Q"
      },
      "source": [
        "### Model Specification"
      ]
    },
    {
      "cell_type": "markdown",
      "metadata": {
        "id": "wLNoI7XJgZJ7"
      },
      "source": [
        ""
      ]
    },
    {
      "cell_type": "markdown",
      "metadata": {
        "id": "0UGxDCiKg3aY"
      },
      "source": [
        "Libraries"
      ]
    },
    {
      "cell_type": "code",
      "metadata": {
        "id": "yg-zbPymkzLk"
      },
      "source": [
        "import statsmodels.api as sm\n",
        "from sklearn.linear_model import RidgeClassifier,LogisticRegression\n",
        "from sklearn.ensemble import  RandomForestClassifier,AdaBoostClassifier,GradientBoostingClassifier\n",
        "from sklearn.tree import  DecisionTreeClassifier\n",
        "from sklearn.neighbors import  KNeighborsClassifier\n",
        "from sklearn.model_selection import cross_val_score, train_test_split\n",
        "from sklearn.metrics import confusion_matrix,classification_report\n",
        "from sklearn.preprocessing import StandardScaler\n",
        "from sklearn.metrics import plot_confusion_matrix\n",
        "from sklearn.metrics import plot_roc_curve"
      ],
      "execution_count": 258,
      "outputs": []
    },
    {
      "cell_type": "code",
      "metadata": {
        "id": "wJ8ApPpbx2my"
      },
      "source": [
        "Early_preg = pop_15_19.loc[:, [\"Region\", \"Place of residence\", \"Religion\", \"Highest educational level\", \"Wealth index combined\", \"Having sex\", \"Knowing ovulatory cycle\", \"Using method\", \"Early pregnancy\"]]"
      ],
      "execution_count": 259,
      "outputs": []
    },
    {
      "cell_type": "code",
      "metadata": {
        "colab": {
          "base_uri": "https://localhost:8080/"
        },
        "id": "4MJEiOQMSYD4",
        "outputId": "39e7cadc-3658-4cce-e8bf-f5b2df41d5b9"
      },
      "source": [
        "Early_preg.info()"
      ],
      "execution_count": 260,
      "outputs": [
        {
          "output_type": "stream",
          "name": "stdout",
          "text": [
            "<class 'pandas.core.frame.DataFrame'>\n",
            "Int64Index: 3307 entries, 0 to 15507\n",
            "Data columns (total 9 columns):\n",
            " #   Column                     Non-Null Count  Dtype \n",
            "---  ------                     --------------  ----- \n",
            " 0   Region                     3307 non-null   object\n",
            " 1   Place of residence         3307 non-null   object\n",
            " 2   Religion                   3307 non-null   object\n",
            " 3   Highest educational level  3307 non-null   object\n",
            " 4   Wealth index combined      3307 non-null   object\n",
            " 5   Having sex                 3307 non-null   object\n",
            " 6   Knowing ovulatory cycle    3307 non-null   object\n",
            " 7   Using method               3307 non-null   object\n",
            " 8   Early pregnancy            3307 non-null   object\n",
            "dtypes: object(9)\n",
            "memory usage: 418.4+ KB\n"
          ]
        }
      ]
    },
    {
      "cell_type": "code",
      "metadata": {
        "id": "gSTGg19BS8Ry"
      },
      "source": [
        " def create_dummies(data = Early_preg, x=\"var\", y=\"reference modality\"):\n",
        "  b = pd.get_dummies(data[x])\n",
        "  del b[y]\n",
        "  return b\n",
        "\n",
        "df = pd.DataFrame()\n",
        "for i in range(9):\n",
        "  modalities = [\"Sud\", \"Rural\", \"No religion\", \"Higher\", \"Middle\", \"No\", \"No\", \"No\", \"No\"]\n",
        "  cols = Early_preg.columns\n",
        "  df1 = create_dummies(x=cols[i], y=modalities[i])\n",
        "  df = pd.concat([df, df1], axis=1)\n"
      ],
      "execution_count": 261,
      "outputs": []
    },
    {
      "cell_type": "code",
      "metadata": {
        "id": "aupxpBDtcDxP"
      },
      "source": [
        "y = df.iloc[:, -1]\n",
        "x = df.iloc[:, :-1]\n",
        "x_train,x_test,y_train,y_test=train_test_split(x,y,test_size=0.2)"
      ],
      "execution_count": 262,
      "outputs": []
    },
    {
      "cell_type": "code",
      "metadata": {
        "colab": {
          "base_uri": "https://localhost:8080/"
        },
        "id": "18wd4R-RSM-X",
        "outputId": "4f83bb7e-297f-45ec-d343-766c9d0083bb"
      },
      "source": [
        "\"\"\"scaler = StandardScaler()\n",
        "scaler.fit(x_train)\"\"\"\n",
        "x_train = scaler.transform(x_train)\n",
        "x_test = scaler.transform(x_test)\n",
        "\n",
        "# Use the KNN classifier to fit data:\n",
        "classifier = KNeighborsClassifier(n_neighbors=1)\n",
        "l=classifier.fit(x_train, y_train)\n",
        "\n",
        "# Predict y data with classifier: \n",
        "y_predict = classifier.predict(x_test)\n",
        "\n",
        "# Print results: \n",
        "print(confusion_matrix(y_test, y_predict))\n",
        "print(classification_report(y_test, y_predict))\n",
        "len(x_train)\n"
      ],
      "execution_count": 263,
      "outputs": [
        {
          "output_type": "stream",
          "name": "stdout",
          "text": [
            "[[563  43]\n",
            " [ 42  14]]\n",
            "              precision    recall  f1-score   support\n",
            "\n",
            "           0       0.93      0.93      0.93       606\n",
            "           1       0.25      0.25      0.25        56\n",
            "\n",
            "    accuracy                           0.87       662\n",
            "   macro avg       0.59      0.59      0.59       662\n",
            "weighted avg       0.87      0.87      0.87       662\n",
            "\n"
          ]
        },
        {
          "output_type": "execute_result",
          "data": {
            "text/plain": [
              "2645"
            ]
          },
          "metadata": {},
          "execution_count": 263
        }
      ]
    },
    {
      "cell_type": "code",
      "metadata": {
        "id": "Pdlss9c-9_kv"
      },
      "source": [
        "print(\"Before OverSampling, counts of label '1': {}\".format(sum(y_train == 1)))\n",
        "print(\"Before OverSampling, counts of label '0': {} \\n\".format(sum(y_train == 0)))\n",
        "from collections import Counter\n",
        "from imblearn.over_sampling import SMOTE\n",
        "smote = SMOTE(random_state = 5)\n",
        "x_train_smote, y_train_smote = smote.fit_resample(x_train,y_train)\n",
        "print('After OverSampling : the shape of train_X: {}'.format(x_train_smote.shape))\n",
        "print('After OverSampling : the shape of train_y: {} \\n'.format(y_train_smote.shape))\n",
        "print(\"After OverSampling : counts of label '1': {}\".format(sum(y_train_smote == 1)))\n",
        "#print(\"After OverSampling : counts of label '0': {}\".format(sum(y_train_smote == 0))"
      ],
      "execution_count": null,
      "outputs": []
    },
    {
      "cell_type": "code",
      "metadata": {
        "id": "43dvWbLmx9S8"
      },
      "source": [
        "import time \n",
        "times_list = []\n",
        "scores = []\n",
        "model_names = [\"LogisticRegression\",\"RidgeClassifier\",\"AdaBoostClassifier\",\"GradientBoostingClassifier\",\"RandomForestClassifier\",\"DecisionTreeClassifier\",\"KNeighborsClassifier\"]\n",
        "models = [LogisticRegression(),RidgeClassifier(),AdaBoostClassifier(),GradientBoostingClassifier(),RandomForestClassifier(),DecisionTreeClassifier(),KNeighborsClassifier()]\n",
        "for model in models:\n",
        "  start = time.time()\n",
        "  model.fit(x_train,y_train)\n",
        "  end = time.time()\n",
        "  times_list.append(end-start)\n",
        "  scores.append( model.score(x_test,y_test))\n",
        "  plot_confusion_matrix(model,x_test,y_test)\n",
        "  plot_roc_curve(model,x_test,y_test)\n",
        "df2=pd.DataFrame(dict(names=model_names,scores=scores,times=times_list))"
      ],
      "execution_count": null,
      "outputs": []
    },
    {
      "cell_type": "code",
      "metadata": {
        "colab": {
          "base_uri": "https://localhost:8080/",
          "height": 266
        },
        "id": "RVCooN_1_9Uu",
        "outputId": "193119b1-c263-4471-a5e8-040f382224d3"
      },
      "source": [
        "df2"
      ],
      "execution_count": 266,
      "outputs": [
        {
          "output_type": "execute_result",
          "data": {
            "text/html": [
              "<div>\n",
              "<style scoped>\n",
              "    .dataframe tbody tr th:only-of-type {\n",
              "        vertical-align: middle;\n",
              "    }\n",
              "\n",
              "    .dataframe tbody tr th {\n",
              "        vertical-align: top;\n",
              "    }\n",
              "\n",
              "    .dataframe thead th {\n",
              "        text-align: right;\n",
              "    }\n",
              "</style>\n",
              "<table border=\"1\" class=\"dataframe\">\n",
              "  <thead>\n",
              "    <tr style=\"text-align: right;\">\n",
              "      <th></th>\n",
              "      <th>names</th>\n",
              "      <th>scores</th>\n",
              "      <th>times</th>\n",
              "    </tr>\n",
              "  </thead>\n",
              "  <tbody>\n",
              "    <tr>\n",
              "      <th>0</th>\n",
              "      <td>LogisticRegression</td>\n",
              "      <td>0.912387</td>\n",
              "      <td>0.038545</td>\n",
              "    </tr>\n",
              "    <tr>\n",
              "      <th>1</th>\n",
              "      <td>RidgeClassifier</td>\n",
              "      <td>0.915408</td>\n",
              "      <td>0.004726</td>\n",
              "    </tr>\n",
              "    <tr>\n",
              "      <th>2</th>\n",
              "      <td>AdaBoostClassifier</td>\n",
              "      <td>0.913897</td>\n",
              "      <td>0.166091</td>\n",
              "    </tr>\n",
              "    <tr>\n",
              "      <th>3</th>\n",
              "      <td>GradientBoostingClassifier</td>\n",
              "      <td>0.910876</td>\n",
              "      <td>0.244887</td>\n",
              "    </tr>\n",
              "    <tr>\n",
              "      <th>4</th>\n",
              "      <td>RandomForestClassifier</td>\n",
              "      <td>0.898792</td>\n",
              "      <td>0.230818</td>\n",
              "    </tr>\n",
              "    <tr>\n",
              "      <th>5</th>\n",
              "      <td>DecisionTreeClassifier</td>\n",
              "      <td>0.898792</td>\n",
              "      <td>0.003303</td>\n",
              "    </tr>\n",
              "    <tr>\n",
              "      <th>6</th>\n",
              "      <td>KNeighborsClassifier</td>\n",
              "      <td>0.915408</td>\n",
              "      <td>0.012794</td>\n",
              "    </tr>\n",
              "  </tbody>\n",
              "</table>\n",
              "</div>"
            ],
            "text/plain": [
              "                        names    scores     times\n",
              "0          LogisticRegression  0.912387  0.038545\n",
              "1             RidgeClassifier  0.915408  0.004726\n",
              "2          AdaBoostClassifier  0.913897  0.166091\n",
              "3  GradientBoostingClassifier  0.910876  0.244887\n",
              "4      RandomForestClassifier  0.898792  0.230818\n",
              "5      DecisionTreeClassifier  0.898792  0.003303\n",
              "6        KNeighborsClassifier  0.915408  0.012794"
            ]
          },
          "metadata": {},
          "execution_count": 266
        }
      ]
    },
    {
      "cell_type": "markdown",
      "metadata": {
        "id": "IUywflAl9L3W"
      },
      "source": [
        "# Reflections\n",
        "## Summary of Data Analysis\n",
        "- What insights should the user takeaway from EDA.\n",
        "\n",
        "## Questions unanswered\n",
        "- What aspects of the research question were we unable to answer and why?\n",
        "\n",
        "## Recommendations\n",
        "- What should the reader do next with this information?\n",
        "\n",
        "## Next Steps\n",
        "- What will the analyst do next based on the analysis?"
      ]
    }
  ]
}